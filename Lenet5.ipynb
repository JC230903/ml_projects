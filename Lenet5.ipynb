{
 "cells": [
  {
   "cell_type": "code",
   "id": "initial_id",
   "metadata": {
    "collapsed": true,
    "ExecuteTime": {
     "end_time": "2025-01-26T09:51:00.423372Z",
     "start_time": "2025-01-26T09:51:00.417355Z"
    }
   },
   "source": "print(\"hello world\")",
   "outputs": [
    {
     "name": "stdout",
     "output_type": "stream",
     "text": [
      "hello world\n"
     ]
    }
   ],
   "execution_count": 117
  },
  {
   "metadata": {
    "ExecuteTime": {
     "end_time": "2025-01-26T09:51:00.437808Z",
     "start_time": "2025-01-26T09:51:00.433536Z"
    }
   },
   "cell_type": "code",
   "source": [
    "import torch \n",
    "import torch.nn as nn\n",
    "import  torchvision \n",
    "import torchvision.transforms as transforms\n",
    "import torchvision.datasets as datasets\n",
    "import torchvision.models as models\n",
    "import numpy as np\n",
    "import matplotlib.pyplot as plt\n",
    "import matplotlib.image as mpimg\n",
    "import seaborn as sns\n",
    "import PIL\n"
   ],
   "id": "e497413450f3e0e",
   "outputs": [],
   "execution_count": 118
  },
  {
   "metadata": {
    "ExecuteTime": {
     "end_time": "2025-01-26T10:13:26.048581Z",
     "start_time": "2025-01-26T10:13:26.042495Z"
    }
   },
   "cell_type": "code",
   "source": [
    "#variables required \n",
    "\n",
    "batch_size = 64\n",
    "num_classes=10\n",
    "learning_rate = 0.001\n",
    "epochs = 10\n",
    "\n"
   ],
   "id": "5c0ac54eea134e11",
   "outputs": [],
   "execution_count": 135
  },
  {
   "metadata": {
    "ExecuteTime": {
     "end_time": "2025-01-26T09:51:00.482545Z",
     "start_time": "2025-01-26T09:51:00.480033Z"
    }
   },
   "cell_type": "code",
   "source": [
    "device=torch.device('cuda' if torch.cuda.is_available() else 'cpu')\n",
    "print(device)"
   ],
   "id": "e9a59df8b96d2a9f",
   "outputs": [
    {
     "name": "stdout",
     "output_type": "stream",
     "text": [
      "cpu\n"
     ]
    }
   ],
   "execution_count": 120
  },
  {
   "metadata": {
    "ExecuteTime": {
     "end_time": "2025-01-26T09:51:00.527375Z",
     "start_time": "2025-01-26T09:51:00.491186Z"
    }
   },
   "cell_type": "code",
   "source": [
    "train_dataset=torchvision.datasets.MNIST(\n",
    "  root=\"./data\",\n",
    "    train=True, \n",
    "    transform=transforms.Compose([\n",
    "      transforms.Resize((32,32)),\n",
    "      transforms.ToTensor(),\n",
    "      transforms.Normalize(mean=(0.137), std=(0.3801))\n",
    "       ]),\n",
    "    download=True \n",
    ")"
   ],
   "id": "a76c70e382fc5271",
   "outputs": [],
   "execution_count": 121
  },
  {
   "metadata": {
    "jupyter": {
     "is_executing": true
    },
    "ExecuteTime": {
     "start_time": "2025-01-26T09:51:00.529278Z"
    }
   },
   "cell_type": "code",
   "source": [
    "test_dataset=torchvision.datasets.MNIST(\n",
    "  root=\"./data\",\n",
    "  train=False,\n",
    "  transform=transforms.Compose([\n",
    "    transforms.Resize((32,32)),\n",
    "    transforms.ToTensor(),\n",
    "    transforms.Normalize(mean=(0.137), std=(0.3801))\n",
    "    \n",
    "    \n",
    "  ]),\n",
    "  download=True \n",
    "  \n",
    ")"
   ],
   "id": "37e6c5f117e10ad9",
   "outputs": [],
   "execution_count": null
  },
  {
   "metadata": {
    "jupyter": {
     "is_executing": true
    }
   },
   "cell_type": "code",
   "source": [
    "print(len(train_dataset))\n",
    "print(len(test_dataset))"
   ],
   "id": "2722ffbc45679ea4",
   "outputs": [],
   "execution_count": null
  },
  {
   "metadata": {
    "ExecuteTime": {
     "end_time": "2025-01-26T09:51:01.113660Z",
     "start_time": "2025-01-26T09:51:01.099811Z"
    }
   },
   "cell_type": "code",
   "source": [
    "train_loader=torch.utils.data.DataLoader(train_dataset,\n",
    "                                         batch_size=batch_size,\n",
    "                                         shuffle=True)\n",
    "\n",
    "test_loader=torch.utils.data.DataLoader(test_dataset,\n",
    "                                        batch_size=batch_size,\n",
    "                                        shuffle=True)\n"
   ],
   "id": "a361605bce0708a",
   "outputs": [],
   "execution_count": 124
  },
  {
   "metadata": {
    "ExecuteTime": {
     "end_time": "2025-01-26T09:51:01.117286Z",
     "start_time": "2025-01-26T09:51:01.115440Z"
    }
   },
   "cell_type": "code",
   "source": "",
   "id": "6f181639971ace52",
   "outputs": [],
   "execution_count": 124
  },
  {
   "metadata": {
    "ExecuteTime": {
     "end_time": "2025-01-26T09:51:01.119558Z",
     "start_time": "2025-01-26T09:51:01.117943Z"
    }
   },
   "cell_type": "code",
   "source": "",
   "id": "37a38f56f45855b",
   "outputs": [],
   "execution_count": 124
  },
  {
   "metadata": {
    "ExecuteTime": {
     "end_time": "2025-01-26T09:51:01.382768Z",
     "start_time": "2025-01-26T09:51:01.120384Z"
    }
   },
   "cell_type": "code",
   "source": [
    "for i in range(7):\n",
    "    image, label = train_dataset[i]\n",
    "    plt.subplot(1, 7, i + 1)\n",
    "    plt.imshow(image.squeeze(), cmap='gray')  # Add parentheses to call the squeeze method\n",
    "    plt.axis('off')\n",
    "    plt.title(f\"label: {label}\")\n",
    "plt.show()\n",
    "\n",
    "  \n",
    "  "
   ],
   "id": "8b375c145f92cd4a",
   "outputs": [
    {
     "data": {
      "text/plain": [
       "<Figure size 640x480 with 7 Axes>"
      ],
      "image/png": "[encoded data removed]"
     },
     "metadata": {},
     "output_type": "display_data"
    }
   ],
   "execution_count": 125
  },
  {
   "metadata": {
    "ExecuteTime": {
     "end_time": "2025-01-26T09:51:01.388784Z",
     "start_time": "2025-01-26T09:51:01.384602Z"
    }
   },
   "cell_type": "code",
   "source": [
    "#lenet Architecture\n",
    "\n",
    "#Defining the convolutional neural network\n",
    "class LeNet5(nn.Module):\n",
    " def __init__(self, num_classes):\n",
    "    super(LeNet5, self).__init__()\n",
    "    self.layer1 = nn.Sequential(\n",
    "        nn.Conv2d(1, 6, kernel_size=5, stride=1, padding=0),\n",
    "        nn.BatchNorm2d(6),\n",
    "        nn.ReLU(),\n",
    "        nn.MaxPool2d(kernel_size = 2, stride = 2))\n",
    "    self.layer2 = nn.Sequential(\n",
    "        nn.Conv2d(6, 16, kernel_size=5, stride=1, padding=0),\n",
    "        nn.BatchNorm2d(16),\n",
    "        nn.ReLU(),\n",
    "        nn.MaxPool2d(kernel_size = 2, stride = 2))\n",
    "    self.fc = nn.Linear(400, 120)\n",
    "    self.relu = nn.ReLU()\n",
    "    self.fc1 = nn.Linear(120, 84)\n",
    "    self.relu1 = nn.ReLU()\n",
    "    self.fc2 = nn.Linear(84, num_classes)\n",
    "    \n",
    " def forward(self, x):\n",
    "    out = self.layer1(x)\n",
    "    out = self.layer2(out)\n",
    "    out = out.reshape(out.size(0), -1)\n",
    "    out = self.fc(out)\n",
    "    out = self.relu(out)\n",
    "    out = self.fc1(out)\n",
    "    out = self.relu1(out)\n",
    "    out = self.fc2(out)\n",
    "    return out"
   ],
   "id": "f1072e1940fad1b2",
   "outputs": [],
   "execution_count": 126
  },
  {
   "metadata": {
    "ExecuteTime": {
     "end_time": "2025-01-26T09:51:01.391284Z",
     "start_time": "2025-01-26T09:51:01.389843Z"
    }
   },
   "cell_type": "code",
   "source": "",
   "id": "7c864e180a4d3138",
   "outputs": [],
   "execution_count": 126
  },
  {
   "metadata": {
    "ExecuteTime": {
     "end_time": "2025-01-26T09:51:01.398841Z",
     "start_time": "2025-01-26T09:51:01.391855Z"
    }
   },
   "cell_type": "code",
   "source": [
    "#model and hyperparameters\n",
    "model=LeNet5(num_classes=10)\n",
    "model=model.to(device)\n",
    "loss_fn=nn.CrossEntropyLoss()\n",
    "optimizer=torch.optim.Adam(model.parameters(),lr=learning_rate)\n",
    "total_step=len(train_loader)\n"
   ],
   "id": "cef828f10a6621dc",
   "outputs": [],
   "execution_count": 127
  },
  {
   "metadata": {},
   "cell_type": "code",
   "outputs": [],
   "execution_count": null,
   "source": "",
   "id": "f3a4c02e9a6c8a02"
  },
  {
   "metadata": {
    "ExecuteTime": {
     "end_time": "2025-01-26T10:15:33.407060Z",
     "start_time": "2025-01-26T10:13:31.267373Z"
    }
   },
   "cell_type": "code",
   "source": [
    "#model training \n",
    "for epoch in range(epochs):  # Loop over epochs\n",
    "    model.train()  # Ensure the model is in training mode\n",
    "\n",
    "    running_loss = 0.0\n",
    "    for step, (inputs, labels) in enumerate(train_loader):  # Loop over batches\n",
    "        # Move data to device (GPU/CPU)\n",
    "        inputs, labels = inputs.to(device), labels.to(device)\n",
    "\n",
    "        # Zero the gradients\n",
    "        optimizer.zero_grad()\n",
    "\n",
    "        # Forward pass\n",
    "        outputs = model(inputs)\n",
    "        loss = loss_fn(outputs, labels)\n",
    "\n",
    "        # Backward pass\n",
    "        loss.backward()\n",
    "\n",
    "        # Update weights\n",
    "        optimizer.step()\n",
    "\n",
    "        # Accumulate the loss\n",
    "        running_loss += loss.item()\n",
    "\n",
    "        # Print every 400 steps\n",
    "        if step % 400 == 0:\n",
    "            print(f\"Epoch [{epoch+1}/{epochs}], Step [{step}/{len(train_loader)}], Loss: {loss.item():.4f}\")\n",
    "\n",
    "    # Print the average loss for the epoch\n",
    "    avg_loss = running_loss / len(train_loader)\n",
    "    print(f\"Epoch [{epoch+1}/{epochs}], Average Loss: {avg_loss:.4f}\")\n",
    "\n"
   ],
   "id": "ce4ef4f244403893",
   "outputs": [
    {
     "name": "stdout",
     "output_type": "stream",
     "text": [
      "Epoch [1/10], Step [0/938], Loss: 0.0000\n",
      "Epoch [1/10], Step [400/938], Loss: 0.0468\n",
      "Epoch [1/10], Step [800/938], Loss: 0.0002\n",
      "Epoch [1/10], Average Loss: 0.0270\n",
      "Epoch [2/10], Step [0/938], Loss: 0.0023\n",
      "Epoch [2/10], Step [400/938], Loss: 0.1588\n",
      "Epoch [2/10], Step [800/938], Loss: 0.0262\n",
      "Epoch [2/10], Average Loss: 0.0256\n",
      "Epoch [3/10], Step [0/938], Loss: 0.0010\n",
      "Epoch [3/10], Step [400/938], Loss: 0.0004\n",
      "Epoch [3/10], Step [800/938], Loss: 0.0073\n",
      "Epoch [3/10], Average Loss: 0.0225\n",
      "Epoch [4/10], Step [0/938], Loss: 0.0002\n",
      "Epoch [4/10], Step [400/938], Loss: 0.0911\n",
      "Epoch [4/10], Step [800/938], Loss: 0.0001\n",
      "Epoch [4/10], Average Loss: 0.0197\n",
      "Epoch [5/10], Step [0/938], Loss: 0.2086\n",
      "Epoch [5/10], Step [400/938], Loss: 0.0001\n",
      "Epoch [5/10], Step [800/938], Loss: 0.0117\n",
      "Epoch [5/10], Average Loss: 0.0236\n",
      "Epoch [6/10], Step [0/938], Loss: 0.0010\n",
      "Epoch [6/10], Step [400/938], Loss: 0.0002\n",
      "Epoch [6/10], Step [800/938], Loss: 0.0004\n",
      "Epoch [6/10], Average Loss: 0.0231\n",
      "Epoch [7/10], Step [0/938], Loss: 0.0022\n",
      "Epoch [7/10], Step [400/938], Loss: 0.0001\n",
      "Epoch [7/10], Step [800/938], Loss: 0.0001\n",
      "Epoch [7/10], Average Loss: 0.0207\n",
      "Epoch [8/10], Step [0/938], Loss: 0.0025\n",
      "Epoch [8/10], Step [400/938], Loss: 0.0925\n",
      "Epoch [8/10], Step [800/938], Loss: 0.0003\n",
      "Epoch [8/10], Average Loss: 0.0233\n",
      "Epoch [9/10], Step [0/938], Loss: 0.0024\n",
      "Epoch [9/10], Step [400/938], Loss: 0.0724\n",
      "Epoch [9/10], Step [800/938], Loss: 0.1444\n",
      "Epoch [9/10], Average Loss: 0.0231\n",
      "Epoch [10/10], Step [0/938], Loss: 0.0003\n",
      "Epoch [10/10], Step [400/938], Loss: 0.0005\n",
      "Epoch [10/10], Step [800/938], Loss: 0.0000\n",
      "Epoch [10/10], Average Loss: 0.0209\n"
     ]
    }
   ],
   "execution_count": 136
  },
  {
   "metadata": {
    "ExecuteTime": {
     "end_time": "2025-01-26T09:52:50.152868Z",
     "start_time": "2025-01-26T09:52:49.016157Z"
    }
   },
   "cell_type": "code",
   "source": [
    "with torch.inference_mode():\n",
    "    correct=0\n",
    "    total=0\n",
    "    for images, labels in test_loader:\n",
    "        images, labels = images.to(device), labels.to(device)\n",
    "        outputs = model(images)\n",
    "        _, predicted = torch.max(outputs.data, 1)\n",
    "        total += labels.size(0)\n",
    "        correct +=(predicted==labels).sum().item()\n",
    "        print('Accuracy of the network on the 10000 test images: {} %'.format(100 * correct / total))"
   ],
   "id": "74fa8d44252ae7bb",
   "outputs": [
    {
     "name": "stdout",
     "output_type": "stream",
     "text": [
      "Accuracy of the network on the 10000 test images: 100.0 %\n",
      "Accuracy of the network on the 10000 test images: 100.0 %\n",
      "Accuracy of the network on the 10000 test images: 100.0 %\n",
      "Accuracy of the network on the 10000 test images: 99.609375 %\n",
      "Accuracy of the network on the 10000 test images: 99.375 %\n",
      "Accuracy of the network on the 10000 test images: 99.21875 %\n",
      "Accuracy of the network on the 10000 test images: 98.88392857142857 %\n",
      "Accuracy of the network on the 10000 test images: 99.0234375 %\n",
      "Accuracy of the network on the 10000 test images: 98.78472222222223 %\n",
      "Accuracy of the network on the 10000 test images: 98.75 %\n",
      "Accuracy of the network on the 10000 test images: 98.57954545454545 %\n",
      "Accuracy of the network on the 10000 test images: 98.56770833333333 %\n",
      "Accuracy of the network on the 10000 test images: 98.5576923076923 %\n",
      "Accuracy of the network on the 10000 test images: 98.54910714285714 %\n",
      "Accuracy of the network on the 10000 test images: 98.4375 %\n",
      "Accuracy of the network on the 10000 test images: 98.53515625 %\n",
      "Accuracy of the network on the 10000 test images: 98.52941176470588 %\n",
      "Accuracy of the network on the 10000 test images: 98.52430555555556 %\n",
      "Accuracy of the network on the 10000 test images: 98.51973684210526 %\n",
      "Accuracy of the network on the 10000 test images: 98.515625 %\n",
      "Accuracy of the network on the 10000 test images: 98.58630952380952 %\n",
      "Accuracy of the network on the 10000 test images: 98.4375 %\n",
      "Accuracy of the network on the 10000 test images: 98.30163043478261 %\n",
      "Accuracy of the network on the 10000 test images: 98.37239583333333 %\n",
      "Accuracy of the network on the 10000 test images: 98.375 %\n",
      "Accuracy of the network on the 10000 test images: 98.4375 %\n",
      "Accuracy of the network on the 10000 test images: 98.49537037037037 %\n",
      "Accuracy of the network on the 10000 test images: 98.49330357142857 %\n",
      "Accuracy of the network on the 10000 test images: 98.54525862068965 %\n",
      "Accuracy of the network on the 10000 test images: 98.59375 %\n",
      "Accuracy of the network on the 10000 test images: 98.58870967741936 %\n",
      "Accuracy of the network on the 10000 test images: 98.6328125 %\n",
      "Accuracy of the network on the 10000 test images: 98.67424242424242 %\n",
      "Accuracy of the network on the 10000 test images: 98.71323529411765 %\n",
      "Accuracy of the network on the 10000 test images: 98.75 %\n",
      "Accuracy of the network on the 10000 test images: 98.74131944444444 %\n",
      "Accuracy of the network on the 10000 test images: 98.77533783783784 %\n",
      "Accuracy of the network on the 10000 test images: 98.80756578947368 %\n",
      "Accuracy of the network on the 10000 test images: 98.79807692307692 %\n",
      "Accuracy of the network on the 10000 test images: 98.828125 %\n",
      "Accuracy of the network on the 10000 test images: 98.78048780487805 %\n",
      "Accuracy of the network on the 10000 test images: 98.80952380952381 %\n",
      "Accuracy of the network on the 10000 test images: 98.80087209302326 %\n",
      "Accuracy of the network on the 10000 test images: 98.828125 %\n",
      "Accuracy of the network on the 10000 test images: 98.81944444444444 %\n",
      "Accuracy of the network on the 10000 test images: 98.84510869565217 %\n",
      "Accuracy of the network on the 10000 test images: 98.80319148936171 %\n",
      "Accuracy of the network on the 10000 test images: 98.828125 %\n",
      "Accuracy of the network on the 10000 test images: 98.82015306122449 %\n",
      "Accuracy of the network on the 10000 test images: 98.8125 %\n",
      "Accuracy of the network on the 10000 test images: 98.80514705882354 %\n",
      "Accuracy of the network on the 10000 test images: 98.79807692307692 %\n",
      "Accuracy of the network on the 10000 test images: 98.82075471698113 %\n",
      "Accuracy of the network on the 10000 test images: 98.8425925925926 %\n",
      "Accuracy of the network on the 10000 test images: 98.83522727272727 %\n",
      "Accuracy of the network on the 10000 test images: 98.85602678571429 %\n",
      "Accuracy of the network on the 10000 test images: 98.82127192982456 %\n",
      "Accuracy of the network on the 10000 test images: 98.8415948275862 %\n",
      "Accuracy of the network on the 10000 test images: 98.83474576271186 %\n",
      "Accuracy of the network on the 10000 test images: 98.85416666666667 %\n",
      "Accuracy of the network on the 10000 test images: 98.82172131147541 %\n",
      "Accuracy of the network on the 10000 test images: 98.84072580645162 %\n",
      "Accuracy of the network on the 10000 test images: 98.83432539682539 %\n",
      "Accuracy of the network on the 10000 test images: 98.828125 %\n",
      "Accuracy of the network on the 10000 test images: 98.82211538461539 %\n",
      "Accuracy of the network on the 10000 test images: 98.81628787878788 %\n",
      "Accuracy of the network on the 10000 test images: 98.8339552238806 %\n",
      "Accuracy of the network on the 10000 test images: 98.80514705882354 %\n",
      "Accuracy of the network on the 10000 test images: 98.82246376811594 %\n",
      "Accuracy of the network on the 10000 test images: 98.81696428571429 %\n",
      "Accuracy of the network on the 10000 test images: 98.81161971830986 %\n",
      "Accuracy of the network on the 10000 test images: 98.80642361111111 %\n",
      "Accuracy of the network on the 10000 test images: 98.8013698630137 %\n",
      "Accuracy of the network on the 10000 test images: 98.79645270270271 %\n",
      "Accuracy of the network on the 10000 test images: 98.79166666666667 %\n",
      "Accuracy of the network on the 10000 test images: 98.80756578947368 %\n",
      "Accuracy of the network on the 10000 test images: 98.82305194805195 %\n",
      "Accuracy of the network on the 10000 test images: 98.83814102564102 %\n",
      "Accuracy of the network on the 10000 test images: 98.8132911392405 %\n",
      "Accuracy of the network on the 10000 test images: 98.828125 %\n",
      "Accuracy of the network on the 10000 test images: 98.8425925925926 %\n",
      "Accuracy of the network on the 10000 test images: 98.85670731707317 %\n",
      "Accuracy of the network on the 10000 test images: 98.8328313253012 %\n",
      "Accuracy of the network on the 10000 test images: 98.84672619047619 %\n",
      "Accuracy of the network on the 10000 test images: 98.86029411764706 %\n",
      "Accuracy of the network on the 10000 test images: 98.87354651162791 %\n",
      "Accuracy of the network on the 10000 test images: 98.86853448275862 %\n",
      "Accuracy of the network on the 10000 test images: 98.88139204545455 %\n",
      "Accuracy of the network on the 10000 test images: 98.8939606741573 %\n",
      "Accuracy of the network on the 10000 test images: 98.90625 %\n",
      "Accuracy of the network on the 10000 test images: 98.91826923076923 %\n",
      "Accuracy of the network on the 10000 test images: 98.93002717391305 %\n",
      "Accuracy of the network on the 10000 test images: 98.94153225806451 %\n",
      "Accuracy of the network on the 10000 test images: 98.91954787234043 %\n",
      "Accuracy of the network on the 10000 test images: 98.93092105263158 %\n",
      "Accuracy of the network on the 10000 test images: 98.94205729166667 %\n",
      "Accuracy of the network on the 10000 test images: 98.95296391752578 %\n",
      "Accuracy of the network on the 10000 test images: 98.91581632653062 %\n",
      "Accuracy of the network on the 10000 test images: 98.92676767676768 %\n",
      "Accuracy of the network on the 10000 test images: 98.90625 %\n",
      "Accuracy of the network on the 10000 test images: 98.90160891089108 %\n",
      "Accuracy of the network on the 10000 test images: 98.91237745098039 %\n",
      "Accuracy of the network on the 10000 test images: 98.90776699029126 %\n",
      "Accuracy of the network on the 10000 test images: 98.91826923076923 %\n",
      "Accuracy of the network on the 10000 test images: 98.89880952380952 %\n",
      "Accuracy of the network on the 10000 test images: 98.87971698113208 %\n",
      "Accuracy of the network on the 10000 test images: 98.89018691588785 %\n",
      "Accuracy of the network on the 10000 test images: 98.88599537037037 %\n",
      "Accuracy of the network on the 10000 test images: 98.89621559633028 %\n",
      "Accuracy of the network on the 10000 test images: 98.89204545454545 %\n",
      "Accuracy of the network on the 10000 test images: 98.88795045045045 %\n",
      "Accuracy of the network on the 10000 test images: 98.89787946428571 %\n",
      "Accuracy of the network on the 10000 test images: 98.90763274336283 %\n",
      "Accuracy of the network on the 10000 test images: 98.9172149122807 %\n",
      "Accuracy of the network on the 10000 test images: 98.92663043478261 %\n",
      "Accuracy of the network on the 10000 test images: 98.93588362068965 %\n",
      "Accuracy of the network on the 10000 test images: 98.94497863247864 %\n",
      "Accuracy of the network on the 10000 test images: 98.94067796610169 %\n",
      "Accuracy of the network on the 10000 test images: 98.93644957983193 %\n",
      "Accuracy of the network on the 10000 test images: 98.9453125 %\n",
      "Accuracy of the network on the 10000 test images: 98.95402892561984 %\n",
      "Accuracy of the network on the 10000 test images: 98.94979508196721 %\n",
      "Accuracy of the network on the 10000 test images: 98.94563008130082 %\n",
      "Accuracy of the network on the 10000 test images: 98.95413306451613 %\n",
      "Accuracy of the network on the 10000 test images: 98.95 %\n",
      "Accuracy of the network on the 10000 test images: 98.94593253968254 %\n",
      "Accuracy of the network on the 10000 test images: 98.95423228346456 %\n",
      "Accuracy of the network on the 10000 test images: 98.96240234375 %\n",
      "Accuracy of the network on the 10000 test images: 98.97044573643412 %\n",
      "Accuracy of the network on the 10000 test images: 98.96634615384616 %\n",
      "Accuracy of the network on the 10000 test images: 98.95038167938931 %\n",
      "Accuracy of the network on the 10000 test images: 98.94649621212122 %\n",
      "Accuracy of the network on the 10000 test images: 98.94266917293233 %\n",
      "Accuracy of the network on the 10000 test images: 98.92723880597015 %\n",
      "Accuracy of the network on the 10000 test images: 98.91203703703704 %\n",
      "Accuracy of the network on the 10000 test images: 98.92003676470588 %\n",
      "Accuracy of the network on the 10000 test images: 98.89370437956204 %\n",
      "Accuracy of the network on the 10000 test images: 98.87907608695652 %\n",
      "Accuracy of the network on the 10000 test images: 98.88714028776978 %\n",
      "Accuracy of the network on the 10000 test images: 98.88392857142857 %\n",
      "Accuracy of the network on the 10000 test images: 98.88076241134752 %\n",
      "Accuracy of the network on the 10000 test images: 98.88864436619718 %\n",
      "Accuracy of the network on the 10000 test images: 98.8854895104895 %\n",
      "Accuracy of the network on the 10000 test images: 98.88237847222223 %\n",
      "Accuracy of the network on the 10000 test images: 98.87931034482759 %\n",
      "Accuracy of the network on the 10000 test images: 98.86558219178082 %\n",
      "Accuracy of the network on the 10000 test images: 98.86267006802721 %\n",
      "Accuracy of the network on the 10000 test images: 98.85979729729729 %\n",
      "Accuracy of the network on the 10000 test images: 98.86744966442953 %\n",
      "Accuracy of the network on the 10000 test images: 98.85416666666667 %\n",
      "Accuracy of the network on the 10000 test images: 98.83071192052981 %\n",
      "Accuracy of the network on the 10000 test images: 98.83840460526316 %\n",
      "Accuracy of the network on the 10000 test images: 98.84599673202614 %\n",
      "Accuracy of the network on the 10000 test images: 98.84334415584415 %\n",
      "Accuracy of the network on the 10000 test images: 98.8508064516129 %\n",
      "Accuracy of the network on the 10000 test images: 98.85817307692308 %\n",
      "Accuracy of the network on the 10000 test images: 98.86 %\n"
     ]
    }
   ],
   "execution_count": 129
  },
  {
   "metadata": {
    "ExecuteTime": {
     "end_time": "2025-01-26T09:52:50.160392Z",
     "start_time": "2025-01-26T09:52:50.158852Z"
    }
   },
   "cell_type": "code",
   "source": "",
   "id": "5f9579e1315f52fa",
   "outputs": [],
   "execution_count": 129
  },
  {
   "metadata": {
    "ExecuteTime": {
     "end_time": "2025-01-26T09:52:50.162515Z",
     "start_time": "2025-01-26T09:52:50.161039Z"
    }
   },
   "cell_type": "code",
   "source": "",
   "id": "3773ce870da7671f",
   "outputs": [],
   "execution_count": 129
  },
  {
   "metadata": {
    "ExecuteTime": {
     "end_time": "2025-01-26T09:52:50.167154Z",
     "start_time": "2025-01-26T09:52:50.165806Z"
    }
   },
   "cell_type": "code",
   "source": "",
   "id": "1e4d3a6f5b0423fc",
   "outputs": [],
   "execution_count": 129
  },
  {
   "metadata": {
    "ExecuteTime": {
     "end_time": "2025-01-26T09:52:50.169923Z",
     "start_time": "2025-01-26T09:52:50.168455Z"
    }
   },
   "cell_type": "code",
   "source": "",
   "id": "6e2dc98358734989",
   "outputs": [],
   "execution_count": 129
  },
  {
   "metadata": {
    "ExecuteTime": {
     "end_time": "2025-01-26T09:52:50.171785Z",
     "start_time": "2025-01-26T09:52:50.170460Z"
    }
   },
   "cell_type": "code",
   "source": "",
   "id": "501bf811f9361be8",
   "outputs": [],
   "execution_count": 129
  }
 ],
 "metadata": {
  "kernelspec": {
   "display_name": "Python 3",
   "language": "python",
   "name": "python3"
  },
  "language_info": {
   "codemirror_mode": {
    "name": "ipython",
    "version": 2
   },
   "file_extension": ".py",
   "mimetype": "text/x-python",
   "name": "python",
   "nbconvert_exporter": "python",
   "pygments_lexer": "ipython2",
   "version": "2.7.6"
  }
 },
 "nbformat": 4,
 "nbformat_minor": 5
}
