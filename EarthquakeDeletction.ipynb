{
  "nbformat": 4,
  "nbformat_minor": 0,
  "metadata": {
    "colab": {
      "provenance": [],
      "authorship_tag": "ABX9TyMddnstDqCFVQV8gHH4rfkj",
      "include_colab_link": true
    },
    "kernelspec": {
      "name": "python3",
      "display_name": "Python 3"
    },
    "language_info": {
      "name": "python"
    }
  },
  "cells": [
    {
      "cell_type": "markdown",
      "metadata": {
        "id": "view-in-github",
        "colab_type": "text"
      },
      "source": [
        "<a href=\"https://colab.research.google.com/github/JC230903/ml_projects/blob/main/EarthquakeDeletction.ipynb\" target=\"_parent\"><img src=\"https://colab.research.google.com/assets/colab-badge.svg\" alt=\"Open In Colab\"/></a>"
      ]
    },
    {
      "cell_type": "code",
      "execution_count": null,
      "metadata": {
        "id": "zvvLiulXa5kv"
      },
      "outputs": [],
      "source": []
    },
    {
      "cell_type": "markdown",
      "source": [
        "Pytorch implementation in python"
      ],
      "metadata": {
        "id": "ULqG7NvCbQj6"
      }
    },
    {
      "cell_type": "code",
      "source": [
        "import pandas as pd\n",
        "import numpy as np\n",
        "import matplotlib.pyplot as plt\n",
        "import seaborn as sns\n",
        "from sklearn.model_selection import train_test_split\n",
        "from sklearn.preprocessing import StandardScaler\n",
        "import torch\n",
        "import torch.nn as nn\n",
        "import torch.optim as optim"
      ],
      "metadata": {
        "id": "v7hgJCL0bOdS"
      },
      "execution_count": null,
      "outputs": []
    },
    {
      "cell_type": "code",
      "source": [
        "df=pd.read_csv(\"/content/sample_data/earthquakes.csv\")"
      ],
      "metadata": {
        "id": "DHXJCilBbOf2"
      },
      "execution_count": null,
      "outputs": []
    },
    {
      "cell_type": "code",
      "source": [
        "df.head()"
      ],
      "metadata": {
        "colab": {
          "base_uri": "https://localhost:8080/",
          "height": 429
        },
        "id": "lUv8UEO0bOiF",
        "outputId": "4db89abd-3ed7-4bc0-96eb-a2fd02a8cf4a"
      },
      "execution_count": null,
      "outputs": [
        {
          "output_type": "execute_result",
          "data": {
            "text/plain": [
              "                               time   latitude   longitude   depth   mag  \\\n",
              "0  1976-03-25 00:41:20.500000+00:00  35.590000  -90.480000  15.000  4.62   \n",
              "1  1979-10-16 06:58:43.450000+00:00  32.998667 -115.557500  14.190  5.80   \n",
              "2  1980-07-27 18:52:21.600000+00:00  38.190000  -83.950000  10.000  5.00   \n",
              "3  1981-04-19 09:02:50.520000+00:00  35.816000 -117.816333   4.766  4.70   \n",
              "4  1981-04-26 12:09:28.290000+00:00  33.095500 -115.624500  18.904  5.75   \n",
              "\n",
              "  magType   nst    gap     dmin   rms  ...  \\\n",
              "0      mw   NaN    NaN      NaN   NaN  ...   \n",
              "1      ml   7.0   79.0  0.05768  0.17  ...   \n",
              "2      md   NaN    NaN      NaN   NaN  ...   \n",
              "3      ml  13.0  135.0      NaN  0.66  ...   \n",
              "4      ml  81.0   34.0      NaN  0.34  ...   \n",
              "\n",
              "                                         place        type horizontalError  \\\n",
              "0             8 km NW of Marked Tree, Arkansas  earthquake             NaN   \n",
              "1                        3km NW of Brawley, CA  earthquake            1.03   \n",
              "2              2 km SW of Sharpsburg, Kentucky  earthquake             NaN   \n",
              "3                  16km SSE of Little Lake, CA  earthquake            2.51   \n",
              "4  The 1981 Westmorland, California Earthquake  earthquake            0.56   \n",
              "\n",
              "  depthError magError  magNst    status  locationSource  magSource   Alert  \n",
              "0        NaN      NaN     0.0  reviewed              nm         nm   green  \n",
              "1       1.78      NaN     0.0  reviewed              ci         ci  yellow  \n",
              "2        NaN      NaN     NaN  reviewed              se         se   green  \n",
              "3      31.61    0.424     9.0  reviewed              ci         ci   green  \n",
              "4       0.67    0.161     6.0  reviewed              ci         ci   green  \n",
              "\n",
              "[5 rows x 23 columns]"
            ],
            "text/html": [
              "\n",
              "  <div id=\"df-fb60ecff-5bae-4535-879b-8f08dece82ac\" class=\"colab-df-container\">\n",
              "    <div>\n",
              "<style scoped>\n",
              "    .dataframe tbody tr th:only-of-type {\n",
              "        vertical-align: middle;\n",
              "    }\n",
              "\n",
              "    .dataframe tbody tr th {\n",
              "        vertical-align: top;\n",
              "    }\n",
              "\n",
              "    .dataframe thead th {\n",
              "        text-align: right;\n",
              "    }\n",
              "</style>\n",
              "<table border=\"1\" class=\"dataframe\">\n",
              "  <thead>\n",
              "    <tr style=\"text-align: right;\">\n",
              "      <th></th>\n",
              "      <th>time</th>\n",
              "      <th>latitude</th>\n",
              "      <th>longitude</th>\n",
              "      <th>depth</th>\n",
              "      <th>mag</th>\n",
              "      <th>magType</th>\n",
              "      <th>nst</th>\n",
              "      <th>gap</th>\n",
              "      <th>dmin</th>\n",
              "      <th>rms</th>\n",
              "      <th>...</th>\n",
              "      <th>place</th>\n",
              "      <th>type</th>\n",
              "      <th>horizontalError</th>\n",
              "      <th>depthError</th>\n",
              "      <th>magError</th>\n",
              "      <th>magNst</th>\n",
              "      <th>status</th>\n",
              "      <th>locationSource</th>\n",
              "      <th>magSource</th>\n",
              "      <th>Alert</th>\n",
              "    </tr>\n",
              "  </thead>\n",
              "  <tbody>\n",
              "    <tr>\n",
              "      <th>0</th>\n",
              "      <td>1976-03-25 00:41:20.500000+00:00</td>\n",
              "      <td>35.590000</td>\n",
              "      <td>-90.480000</td>\n",
              "      <td>15.000</td>\n",
              "      <td>4.62</td>\n",
              "      <td>mw</td>\n",
              "      <td>NaN</td>\n",
              "      <td>NaN</td>\n",
              "      <td>NaN</td>\n",
              "      <td>NaN</td>\n",
              "      <td>...</td>\n",
              "      <td>8 km NW of Marked Tree, Arkansas</td>\n",
              "      <td>earthquake</td>\n",
              "      <td>NaN</td>\n",
              "      <td>NaN</td>\n",
              "      <td>NaN</td>\n",
              "      <td>0.0</td>\n",
              "      <td>reviewed</td>\n",
              "      <td>nm</td>\n",
              "      <td>nm</td>\n",
              "      <td>green</td>\n",
              "    </tr>\n",
              "    <tr>\n",
              "      <th>1</th>\n",
              "      <td>1979-10-16 06:58:43.450000+00:00</td>\n",
              "      <td>32.998667</td>\n",
              "      <td>-115.557500</td>\n",
              "      <td>14.190</td>\n",
              "      <td>5.80</td>\n",
              "      <td>ml</td>\n",
              "      <td>7.0</td>\n",
              "      <td>79.0</td>\n",
              "      <td>0.05768</td>\n",
              "      <td>0.17</td>\n",
              "      <td>...</td>\n",
              "      <td>3km NW of Brawley, CA</td>\n",
              "      <td>earthquake</td>\n",
              "      <td>1.03</td>\n",
              "      <td>1.78</td>\n",
              "      <td>NaN</td>\n",
              "      <td>0.0</td>\n",
              "      <td>reviewed</td>\n",
              "      <td>ci</td>\n",
              "      <td>ci</td>\n",
              "      <td>yellow</td>\n",
              "    </tr>\n",
              "    <tr>\n",
              "      <th>2</th>\n",
              "      <td>1980-07-27 18:52:21.600000+00:00</td>\n",
              "      <td>38.190000</td>\n",
              "      <td>-83.950000</td>\n",
              "      <td>10.000</td>\n",
              "      <td>5.00</td>\n",
              "      <td>md</td>\n",
              "      <td>NaN</td>\n",
              "      <td>NaN</td>\n",
              "      <td>NaN</td>\n",
              "      <td>NaN</td>\n",
              "      <td>...</td>\n",
              "      <td>2 km SW of Sharpsburg, Kentucky</td>\n",
              "      <td>earthquake</td>\n",
              "      <td>NaN</td>\n",
              "      <td>NaN</td>\n",
              "      <td>NaN</td>\n",
              "      <td>NaN</td>\n",
              "      <td>reviewed</td>\n",
              "      <td>se</td>\n",
              "      <td>se</td>\n",
              "      <td>green</td>\n",
              "    </tr>\n",
              "    <tr>\n",
              "      <th>3</th>\n",
              "      <td>1981-04-19 09:02:50.520000+00:00</td>\n",
              "      <td>35.816000</td>\n",
              "      <td>-117.816333</td>\n",
              "      <td>4.766</td>\n",
              "      <td>4.70</td>\n",
              "      <td>ml</td>\n",
              "      <td>13.0</td>\n",
              "      <td>135.0</td>\n",
              "      <td>NaN</td>\n",
              "      <td>0.66</td>\n",
              "      <td>...</td>\n",
              "      <td>16km SSE of Little Lake, CA</td>\n",
              "      <td>earthquake</td>\n",
              "      <td>2.51</td>\n",
              "      <td>31.61</td>\n",
              "      <td>0.424</td>\n",
              "      <td>9.0</td>\n",
              "      <td>reviewed</td>\n",
              "      <td>ci</td>\n",
              "      <td>ci</td>\n",
              "      <td>green</td>\n",
              "    </tr>\n",
              "    <tr>\n",
              "      <th>4</th>\n",
              "      <td>1981-04-26 12:09:28.290000+00:00</td>\n",
              "      <td>33.095500</td>\n",
              "      <td>-115.624500</td>\n",
              "      <td>18.904</td>\n",
              "      <td>5.75</td>\n",
              "      <td>ml</td>\n",
              "      <td>81.0</td>\n",
              "      <td>34.0</td>\n",
              "      <td>NaN</td>\n",
              "      <td>0.34</td>\n",
              "      <td>...</td>\n",
              "      <td>The 1981 Westmorland, California Earthquake</td>\n",
              "      <td>earthquake</td>\n",
              "      <td>0.56</td>\n",
              "      <td>0.67</td>\n",
              "      <td>0.161</td>\n",
              "      <td>6.0</td>\n",
              "      <td>reviewed</td>\n",
              "      <td>ci</td>\n",
              "      <td>ci</td>\n",
              "      <td>green</td>\n",
              "    </tr>\n",
              "  </tbody>\n",
              "</table>\n",
              "<p>5 rows × 23 columns</p>\n",
              "</div>\n",
              "    <div class=\"colab-df-buttons\">\n",
              "\n",
              "  <div class=\"colab-df-container\">\n",
              "    <button class=\"colab-df-convert\" onclick=\"convertToInteractive('df-fb60ecff-5bae-4535-879b-8f08dece82ac')\"\n",
              "            title=\"Convert this dataframe to an interactive table.\"\n",
              "            style=\"display:none;\">\n",
              "\n",
              "  <svg xmlns=\"http://www.w3.org/2000/svg\" height=\"24px\" viewBox=\"0 -960 960 960\">\n",
              "    <path d=\"M120-120v-720h720v720H120Zm60-500h600v-160H180v160Zm220 220h160v-160H400v160Zm0 220h160v-160H400v160ZM180-400h160v-160H180v160Zm440 0h160v-160H620v160ZM180-180h160v-160H180v160Zm440 0h160v-160H620v160Z\"/>\n",
              "  </svg>\n",
              "    </button>\n",
              "\n",
              "  <style>\n",
              "    .colab-df-container {\n",
              "      display:flex;\n",
              "      gap: 12px;\n",
              "    }\n",
              "\n",
              "    .colab-df-convert {\n",
              "      background-color: #E8F0FE;\n",
              "      border: none;\n",
              "      border-radius: 50%;\n",
              "      cursor: pointer;\n",
              "      display: none;\n",
              "      fill: #1967D2;\n",
              "      height: 32px;\n",
              "      padding: 0 0 0 0;\n",
              "      width: 32px;\n",
              "    }\n",
              "\n",
              "    .colab-df-convert:hover {\n",
              "      background-color: #E2EBFA;\n",
              "      box-shadow: 0px 1px 2px rgba(60, 64, 67, 0.3), 0px 1px 3px 1px rgba(60, 64, 67, 0.15);\n",
              "      fill: #174EA6;\n",
              "    }\n",
              "\n",
              "    .colab-df-buttons div {\n",
              "      margin-bottom: 4px;\n",
              "    }\n",
              "\n",
              "    [theme=dark] .colab-df-convert {\n",
              "      background-color: #3B4455;\n",
              "      fill: #D2E3FC;\n",
              "    }\n",
              "\n",
              "    [theme=dark] .colab-df-convert:hover {\n",
              "      background-color: #434B5C;\n",
              "      box-shadow: 0px 1px 3px 1px rgba(0, 0, 0, 0.15);\n",
              "      filter: drop-shadow(0px 1px 2px rgba(0, 0, 0, 0.3));\n",
              "      fill: #FFFFFF;\n",
              "    }\n",
              "  </style>\n",
              "\n",
              "    <script>\n",
              "      const buttonEl =\n",
              "        document.querySelector('#df-fb60ecff-5bae-4535-879b-8f08dece82ac button.colab-df-convert');\n",
              "      buttonEl.style.display =\n",
              "        google.colab.kernel.accessAllowed ? 'block' : 'none';\n",
              "\n",
              "      async function convertToInteractive(key) {\n",
              "        const element = document.querySelector('#df-fb60ecff-5bae-4535-879b-8f08dece82ac');\n",
              "        const dataTable =\n",
              "          await google.colab.kernel.invokeFunction('convertToInteractive',\n",
              "                                                    [key], {});\n",
              "        if (!dataTable) return;\n",
              "\n",
              "        const docLinkHtml = 'Like what you see? Visit the ' +\n",
              "          '<a target=\"_blank\" href=https://colab.research.google.com/notebooks/data_table.ipynb>data table notebook</a>'\n",
              "          + ' to learn more about interactive tables.';\n",
              "        element.innerHTML = '';\n",
              "        dataTable['output_type'] = 'display_data';\n",
              "        await google.colab.output.renderOutput(dataTable, element);\n",
              "        const docLink = document.createElement('div');\n",
              "        docLink.innerHTML = docLinkHtml;\n",
              "        element.appendChild(docLink);\n",
              "      }\n",
              "    </script>\n",
              "  </div>\n",
              "\n",
              "\n",
              "<div id=\"df-05a7b3af-e322-49e3-b184-9cb1bb4955bd\">\n",
              "  <button class=\"colab-df-quickchart\" onclick=\"quickchart('df-05a7b3af-e322-49e3-b184-9cb1bb4955bd')\"\n",
              "            title=\"Suggest charts\"\n",
              "            style=\"display:none;\">\n",
              "\n",
              "<svg xmlns=\"http://www.w3.org/2000/svg\" height=\"24px\"viewBox=\"0 0 24 24\"\n",
              "     width=\"24px\">\n",
              "    <g>\n",
              "        <path d=\"M19 3H5c-1.1 0-2 .9-2 2v14c0 1.1.9 2 2 2h14c1.1 0 2-.9 2-2V5c0-1.1-.9-2-2-2zM9 17H7v-7h2v7zm4 0h-2V7h2v10zm4 0h-2v-4h2v4z\"/>\n",
              "    </g>\n",
              "</svg>\n",
              "  </button>\n",
              "\n",
              "<style>\n",
              "  .colab-df-quickchart {\n",
              "      --bg-color: #E8F0FE;\n",
              "      --fill-color: #1967D2;\n",
              "      --hover-bg-color: #E2EBFA;\n",
              "      --hover-fill-color: #174EA6;\n",
              "      --disabled-fill-color: #AAA;\n",
              "      --disabled-bg-color: #DDD;\n",
              "  }\n",
              "\n",
              "  [theme=dark] .colab-df-quickchart {\n",
              "      --bg-color: #3B4455;\n",
              "      --fill-color: #D2E3FC;\n",
              "      --hover-bg-color: #434B5C;\n",
              "      --hover-fill-color: #FFFFFF;\n",
              "      --disabled-bg-color: #3B4455;\n",
              "      --disabled-fill-color: #666;\n",
              "  }\n",
              "\n",
              "  .colab-df-quickchart {\n",
              "    background-color: var(--bg-color);\n",
              "    border: none;\n",
              "    border-radius: 50%;\n",
              "    cursor: pointer;\n",
              "    display: none;\n",
              "    fill: var(--fill-color);\n",
              "    height: 32px;\n",
              "    padding: 0;\n",
              "    width: 32px;\n",
              "  }\n",
              "\n",
              "  .colab-df-quickchart:hover {\n",
              "    background-color: var(--hover-bg-color);\n",
              "    box-shadow: 0 1px 2px rgba(60, 64, 67, 0.3), 0 1px 3px 1px rgba(60, 64, 67, 0.15);\n",
              "    fill: var(--button-hover-fill-color);\n",
              "  }\n",
              "\n",
              "  .colab-df-quickchart-complete:disabled,\n",
              "  .colab-df-quickchart-complete:disabled:hover {\n",
              "    background-color: var(--disabled-bg-color);\n",
              "    fill: var(--disabled-fill-color);\n",
              "    box-shadow: none;\n",
              "  }\n",
              "\n",
              "  .colab-df-spinner {\n",
              "    border: 2px solid var(--fill-color);\n",
              "    border-color: transparent;\n",
              "    border-bottom-color: var(--fill-color);\n",
              "    animation:\n",
              "      spin 1s steps(1) infinite;\n",
              "  }\n",
              "\n",
              "  @keyframes spin {\n",
              "    0% {\n",
              "      border-color: transparent;\n",
              "      border-bottom-color: var(--fill-color);\n",
              "      border-left-color: var(--fill-color);\n",
              "    }\n",
              "    20% {\n",
              "      border-color: transparent;\n",
              "      border-left-color: var(--fill-color);\n",
              "      border-top-color: var(--fill-color);\n",
              "    }\n",
              "    30% {\n",
              "      border-color: transparent;\n",
              "      border-left-color: var(--fill-color);\n",
              "      border-top-color: var(--fill-color);\n",
              "      border-right-color: var(--fill-color);\n",
              "    }\n",
              "    40% {\n",
              "      border-color: transparent;\n",
              "      border-right-color: var(--fill-color);\n",
              "      border-top-color: var(--fill-color);\n",
              "    }\n",
              "    60% {\n",
              "      border-color: transparent;\n",
              "      border-right-color: var(--fill-color);\n",
              "    }\n",
              "    80% {\n",
              "      border-color: transparent;\n",
              "      border-right-color: var(--fill-color);\n",
              "      border-bottom-color: var(--fill-color);\n",
              "    }\n",
              "    90% {\n",
              "      border-color: transparent;\n",
              "      border-bottom-color: var(--fill-color);\n",
              "    }\n",
              "  }\n",
              "</style>\n",
              "\n",
              "  <script>\n",
              "    async function quickchart(key) {\n",
              "      const quickchartButtonEl =\n",
              "        document.querySelector('#' + key + ' button');\n",
              "      quickchartButtonEl.disabled = true;  // To prevent multiple clicks.\n",
              "      quickchartButtonEl.classList.add('colab-df-spinner');\n",
              "      try {\n",
              "        const charts = await google.colab.kernel.invokeFunction(\n",
              "            'suggestCharts', [key], {});\n",
              "      } catch (error) {\n",
              "        console.error('Error during call to suggestCharts:', error);\n",
              "      }\n",
              "      quickchartButtonEl.classList.remove('colab-df-spinner');\n",
              "      quickchartButtonEl.classList.add('colab-df-quickchart-complete');\n",
              "    }\n",
              "    (() => {\n",
              "      let quickchartButtonEl =\n",
              "        document.querySelector('#df-05a7b3af-e322-49e3-b184-9cb1bb4955bd button');\n",
              "      quickchartButtonEl.style.display =\n",
              "        google.colab.kernel.accessAllowed ? 'block' : 'none';\n",
              "    })();\n",
              "  </script>\n",
              "</div>\n",
              "\n",
              "    </div>\n",
              "  </div>\n"
            ],
            "application/vnd.google.colaboratory.intrinsic+json": {
              "type": "dataframe",
              "variable_name": "df"
            }
          },
          "metadata": {},
          "execution_count": 7
        }
      ]
    },
    {
      "cell_type": "code",
      "source": [
        "df[\"Alert\"].sum()"
      ],
      "metadata": {
        "colab": {
          "base_uri": "https://localhost:8080/",
          "height": 161
        },
        "id": "m1I3sL1tbOkO",
        "outputId": "5f112813-08bd-4160-988f-2cbacb10540a"
      },
      "execution_count": null,
      "outputs": [
        {
          "output_type": "execute_result",
          "data": {
            "text/plain": [
              "'greenyellowgreengreengreengreengreengreengreengreengreengreengreengreengreengreengreengreengreengreengreengreengreengreengreengreengreengreengreengreengreengreengreengreengreengreengreengreengreengreengreengreenyellowgreengreengreengreengreengreengreengreengreengreengreengreengreengreengreenyellowgreengreengreengreengreengreengreengreengreengreengreengreengreengreengreengreengreengreengreengreengreengreengreengreengreengreengreengreengreengreengreengreengreengreengreengreengreengreengreengreenyellowgreenredgreenyellowgreenyellowgreenyellowgreengreengreengreengreengreengreengreengreengreengreengreengreengreengreengreengreengreengreengreengreengreengreengreengreengreengreengreengreengreengreengreengreengreenyellowgreengreengreenyellowgreenorangegreengreengreenyellowgreengreengreengreenyellowgreengreengreengreengreengreengreengreengreengreengreengreengreengreengreengreengreengreengreengreenyellowgreengreengreengreengreengreengreengreengreengreengreengreengreengreengreengreengreengreengreengreengreengreengreengreengreengreengreengreengreengreengreengreengreengreengreengreengreengreengreengreengreengreengreengreengreengreengreengreengreengreengreengreengreengreengreengreengreengreengreengreengreengreengreengreengreengreengreengreengreengreengreengreengreengreengreengreengreengreengreengreenyellowgreengreengreengreengreengreengreengreengreengreengreengreengreengreengreengreengreengreengreengreengreengreengreengreengreengreengreengreengreengreengreengreengreengreengreengreengreengreengreengreengreengreengreengreengreengreengreengreenorangeyellowgreengreengreengreengreengreengreenyellowgreenyellowgreengreengreengreengreengreengreengreengreengreenredgreengreengreengreengreengreengreengreengreengreengreengreengreengreenyellowgreengreengreengreenyellowgreengreengreengreengreengreengreengreengreengreengreengreengreengreengreengreengreengreengreengreengreengreengreengreengreengreengreengreengreengreengreengreengreengreengreengreengreengreengreengreengreengreengreengreengreengreengreengreengreengreengreengreengreengreengreengreengreengreengreengreengreengreengreengreengreengreengreengreengreengreengreengreengreengreengreengreengreengreengreengreengreengreengreengreengreengreengreengreengreengreengreengreengreengreengreengreengreengreengreengreengreengreengreengreengreengreengreenyellowgreenorangeyellowgreengreengreengreengreengreengreengreengreengreengreengreengreengreengreengreengreenyellowgreengreengreengreengreengreenyellowgreenyellowgreenyellowgreengreengreenorangegreengreengreengreengreengreengreengreengreengreenyellowgreengreengreengreengreengreengreengreengreengreengreengreengreengreengreengreengreengreengreengreengreenyellowgreengreengreengreengreengreengreengreengreengreengreengreengreengreengreengreenredgreengreengreengreengreengreengreengreenorangegreengreengreengreengreengreengreengreengreengreengreengreengreenyellowgreengreengreenorangegreengreengreengreengreengreengreengreengreengreengreengreengreengreengreengreengreengreengreengreengreengreengreengreengreengreengreengreengreengreengreengreengreengreengreengreengreengreengreengreengreengreengreengreengreengreengreengreengreengreengreengreengreengreengreengreengreengreengreengreengreenyellowgreenyellowyellowgreengreengreengreengreengreengreengreengreenorangegreengreengreengreengreengreengreengreengreengreengreengreengreengreengreengreengreengreengreengreengreengreengreengreengreengreengreengreengreengreengreengreengreengreengreengreengreengreengreengreengreengreengreengreengreengreengreengreengreengreengreengreengreengreenyellowgreengreengreengreengreengreengreengreengreengreengreengreenorangegreengreengreengreengreengreengreenyellowgreengreengreengreengreengreengreengreengreengreengreenyellowgreengreengreengreengreengreengreengreengreengreengreengreengreengreengreengreengreengreengreengreengreengreengreengreengreengreengreengreengreengreengreengreengreengreengreengreengreengreengreengreengreengreengreengreengreengreengreengreengreengreengreengreengreengreengreengreengreengreengreengreengreengreengreengreengreengreengreengreengreengreengreengreengreengreengreengreengreenyellowgreengreengreengreengreenyellowgreengreengreengreengreengreengreengreengreengreengreenyellowgreengreengreengreengreengreengreengreengreengreengreengreengreengreengreengreengreengreengreengreengreengreengreengreengreengreengreengreengreengreengreengreengreengreengreengreengreengreengreengreengreengreengreengreengreenyellowgreengreengreengreengreengreengreengreengreengreengreengreengreengreengreengreengreengreengreengreengreengreengreengreengreengreengreengreengreengreengreengreengreengreengreengreengreengreengreengreengreengreengreenyellowgreengreengreengreengreengreengreengreengreengreengreengreengreengreengreengreengreengreengreengreengreengreengreengreengreengreengreengreengreengreengreengreenyellowgreengreengreengreengreengreenyellowgreengreengreengreengreengreengreengreengreengreengreengreengreengreengreengreengreengreengreengreengreengreengreengreengreengreengreengreengreengreengreengreengreengreengreengreengreengreengreengreengreengreengreengreengreengreengreengreengreengreengreengreengreengreengreengreengreengreengreengreengreengreengreengreengreengreengreengreengreengreengreenorangegreengreengreengreengreengreengreengreengreengreengreengreengreengreengreengreengreengreengreengreengreengreengreengreengreengreengreengreengreengreengreengreengreengreengreengreengreengreenyellowgreengreengreengreengreenredgreenyellowgreengreengreengreengreengreengreengreengreengreengreengreenyellowyellowgreenyellowgreengreengreengreengreengreengreenyellowredgreengreengreengreengreengreengreengreengreengreengreengreengreengreengreengreengreengreengreengreengreengreengreengreengreengreengreengreengreengreengreengreengreengreengreengreengreengreengreengreengreengreengreengreengreengreengreengreengreengreengreengreengreengreengreengreengreengreengreenorangegreengreengreengreengreengreengreengreengreengreengreengreenyellowgreengreengreengreengreengreengreengreengreengreengreengreengreengreengreengreengreengreengreengreengreengreengreengreengreengreengreengreengreengreengreengreengreengreengreengreengreengreengreengreengreengreengreengreengreengreengreengreengreengreengreengreengreengreengreengreengreenyellowyellowgreengreengreenyellowgreengreengreengreengreengreengreengreengreengreengreengreenyellowyellowgreengreengreengreengreengreengreengreengreengreengreengreengreengreengreengreengreengreengreengreengreengreengreengreengreengreengreengreengreengreengreengreengreengreengreengreengreengreengreengreengreengreengreengreengreengreengreengreengreengreengreengreengreengreengreengreengreengreengreengreengreengreengreengreengreengreengreengreengreengreengreengreengreengreengreengreengreengreengreengreengreengreengreengreengreengreengreengreengreengreengreengreengreengreengreengreengreengreengreengreengreengreengreengreengreengreengreengreengreengreengreengreengreengreengreengreengreengreengreengreengreengreengreengreengreengreengreengreengreengreengreengreengreengreengreengreengreengreengreengreengreengreengreengreengreengreengreengreengreengreengreengreengreengreengreengreengreengreengreengreengreengreengreengreengreengreengreengreengreengreengreenredyellowgreengreenyellowgreengreengreenyellowgreengreengreengreengreengreengreengreengreengreengreengreengreengreengreengreengreengreengreengreengreengreengreengreengreengreengreenorangegreengreengreengreengreengreengreengreengreengreengreengreengreengreengreengreengreengreengreengreengreengreengreengreengreengreengreengreengreengreengreengreengreengreengreengreengreengreengreengreengreengreengreengreengreengreengreengreengreengreengreengreengreengreengreengreengreengreengreengreengreengreengreengreengreengreengreengreengreengreengreengreengreengreengreengreenyellowgreengreengreengreengreengreengreengreengreengreengreengreengreengreengreengreengreengreengreengreengreengreengreengreengreengreengreengreengreengreengreengreengreengreengreengreengreengreengreengreengreengreengreengreengreengreengreengreengreengreengreengreengreengreengreengreengreengreengreengreengreengreengreengreengreengreengreengreengreengreengreengreengreengreengreengreengreengreengreengreengreengreengreengreengreengreengreengreengreengreengreengreengreengreengreengreengreengreengreengreengreengreengreengreengreengreengreengreengreengreenorangegreengreengreengreengreengreengreengreengreengreengreengreengreengreengreengreengreengreengreengreengreengreengreengreengreengreengreengreengreengreengreengreengreengreengreengreengreengreengreengreengreengreengreengreengreengreengreengreengreengreengreengreengreengreengreengreengreengreengreengreengreengreengreengreengreengreengreengreengreengreengreengreengreengreenyellowgreengreengreengreengreengreenorangegreengreengreengreengreengreengreengreengreengreengreengreengreengreengreengreengreengreengreengreengreengreengreengreengreengreengreengreengreengreengreengreengreengreengreengreengreengreenorangegreengreengreengreengreengreengreengreengreengreengreengreengreengreengreengreengreengreengreengreengreengreengreengreengreengreengreengreengreengreengreengreengreengreengreengreengreengreengreengreengreengreengreengreengreengreengreengreengreengreengreengreengreengreengreengreengreengreengreengreengreengreengreengreenorangegreengreengreengreengreengreengreengreengreengreengreengreengreengreengreengreengreengreengreengreengreengreengreengreengreengreengreengreengreengreengreengreengreengreengreengreengreengreengreengreengreengreengreengreenyellowgreengreengreengreengreengreengreenorangegreengreengreengreengreengreengreengreengreengreengreengreengreengreengreengreengreengreengreengreengreengreengreengreengreengreengreengreengreengreengreengreengreengreengreengreengreengreengreengreengreengreengreengreengreengreengreengreengreengreengreengreengreengreengreengreengreengreengreengreengreengreengreengreengreengreengreengreengreengreengreengreengreengreenyellowgreengreengreengreenredyellowgreengreengreengreengreenredgreengreengreenorangegreengreengreengreengreengreengreengreengreengreengreengreengreengreengreengreengreengreengreengreengreengreengreengreengreengreengreengreengreengreengreengreengreengreengreengreengreengreengreengreengreengreengreengreengreengreengreengreengreengreengreengreengreengreengreengreengreengreengreengreengreengreengreengreengreengreengreengreengreengreengreengreengreengreengreengreengreenyellowgreengreengreengreengreengreengreengreengreengreengreengreengreengreengreengreengreengreengreengreengreengreengreengreengreengreengreengreengreengreengreengreengreengreengreengreengreengreengreengreengreengreengreengreengreengreengreengreengreengreengreengreengreengreengreengreengreengreengreengreengreengreengreengreengreengreengreengreengreengreengreengreengreengreengreengreengreengreengreengreengreengreengreengreengreengreengreengreengreengreengreengreengreengreengreengreengreengreengreengreengreenredyellowyellowgreengreengreengreengreengreengreengreengreengreengreengreengreengreengreengreengreengreengreengreengreengreengreengreengreengreengreengreengreengreengreengreengreenyellowgreenyellowgreengreengreengreengreengreengreengreengreengreengreengreengreengreengreengreengreengreengreengreengreengreengreengreengreengreengreengreengreengreengreengreengreengreengreengreengreengreengreengreengreengreengreengreengreengreengreenorangegreengreengreengreengreengreenorangeredgreengreengreengreengreengreenredgreengreengreengreengreengreengreengreengreengreengreengreengreengreengreengreenorangegreengreenyellowgreengreengreenyellowgreengreenyellowgreengreengreengreengreengreengreengreengreengreengreengreengreengreengreengreengreengreengreengreengreengreengreengreengreengreengreengreengreengreengreenyellowgreengreengreengreengreengreengreengreengreengreengreengreengreengreengreengreengreengreengreengreengreengreengreengreenyellowgreengreengreengreengreengreengreengreengreengreengreengreengreengreengreengreengreengreengreengreengreengreengreengreenyellowgreengreengreengreengreengreengreengreengreengreengreengreengreengreengreengreengreengreengreengreengreengreengreengreengreengreengreengreengreengreengreengreengreengreengreengreengreengreengreengreengreengreengreengreengreengreengreengreengreenorangeyellowgreengreenyellowgreengreengreengreengreengreengreengreengreengreengreengreengreengreengreengreengreengreenyellowgreengreengreengreengreengreengreengreengreengreengreengreengreengreengreengreengreengreengreengreenyellowgreengreengreengreengreengreengreengreengreengreengreengreengreengreengreengreengreengreengreengreengreengreengreengreengreengreengreengreengreenyellowgreengreengreengreenyellowgreengreengreengreenyellowgreengreengreengreengreengreengreengreengreengreengreengreengreengreengreengreengreengreengreengreengreengreengreengreengreenyellowgreengreengreengreengreengreengreengreengreengreengreengreengreengreengreengreengreengreengreengreengreengreengreenyellowgreengreengreengreengreengreenyellowgreengreengreengreengreengreengreengreengreengreengreengreengreengreengreengreengreengreengreengreengreengreengreengreengreengreengreengreengreenyellowgreengreenyellowgreengreengreengreengreengreengreengreenyellowgreengreengreengreengreengreengreengreengreengreengreengreengreengreengreengreengreenyellowgreengreengreengreengreengreengreengreengreengreengreengreengreengreengreengreengreengreengreenyellowgreengreengreengreengreengreengreengreengreengreengreengreengreengreengreengreengreengreengreengreengreenyellowgreengreengreengreengreengreengreengreengreengreengreengreengreengreengreengreengreengreengreengreenyellowgreengreengreengreengreengreengreengreengreengreengreengreengreengreengreengreengreengreengreengreenredgreengreengreengreengreengreengreengreengreengreengreengreengreengreengreengreengreengreengreengreengreengreengreengreengreengreenyellowgreengreengreengreengreengreengreengreengreengreengreengreengreengreengreengreengreengreengreengreengreengreengreengreengreengreengreengreengreengreengreengreengreengreengreengreengreengreengreengreengreengreengreengreengreengreengreengreengreengreengreengreengreengreengreengreengreengreengreengreengreengreengreenredgreengreengreengreengreengreengreenyellowgreengreengreengreengreengreengreengreengreengreengreengreengreengreengreengreengreengreengreengreengreengreengreengreengreengreengreengreengreengreengreengreengreengreengreengreengreengreengreengreengreengreengreengreengreengreengreengreengreengreengreengreengreengreengreengreengreengreengreengreengreengreengreengreengreengreengreengreengreengreengreengreengreengreengreengreengreengreengreengreengreengreengreengreengreengreengreengreengreengreengreengreengreengreengreengreengreengreengreengreengreengreengreengreengreengreengreengreengreengreengreengreengreengreengreengreengreengreengreengreengreengreengreengreengreengreengreengreengreengreengreengreengreengreengreenyellowyellowgreengreengreenyellowgreengreengreengreengreengreengreengreengreengreengreengreengreengreengreengreengreengreengreengreengreengreengreengreengreengreengreengreengreengreengreengreengreengreengreengreengreengreengreengreengreengreengreengreengreengreengreengreengreengreengreengreengreengreengreengreengreengreengreengreengreengreengreengreengreengreengreengreengreengreengreengreengreengreengreengreengreengreengreengreengreengreengreengreengreengreenyellowgreengreengreengreengreengreengreengreengreengreengreengreengreengreengreengreengreengreengreengreengreengreengreengreengreengreengreengreengreengreengreengreengreengreengreengreengreengreengreengreengreengreengreengreengreengreengreengreengreengreengreengreengreengreengreengreengreenredgreengreengreengreengreengreengreengreengreengreengreengreengreengreengreengreengreengreengreengreengreengreengreengreengreengreengreengreengreengreengreengreengreengreengreengreengreengreengreengreengreengreengreengreengreengreengreengreengreengreengreengreengreengreengreengreengreengreengreengreengreengreenyellowgreengreengreengreengreenorangegreengreengreengreengreengreengreengreengreengreengreengreengreengreengreengreengreengreengreengreengreengreengreengreengreengreengreengreengreengreengreengreengreengreengreengreengreengreengreengreengreengreengreengreengreengreengreengreengreengreengreengreenyellowgreengreengreengreengreengreengreengreengreengreengreengreengreenyellowgreengreengreengreengreengreengreengreengreengreengreengreengreengreengreengreengreenyellowgreengreengreengreenorangegreengreengreengreengreengreengreengreenyellowgreengreengreengreengreengreengreengreengreengreengreengreengreengreengreengreengreengreengreengreengreengreengreengreengreengreengreengreengreengreengreengreengreenredgreengreenyellowgreengreengreengreengreengreengreengreengreengreengreengreengreengreengreengreengreengreengreengreengreengreengreengreengreengreengreengreengreengreengreengreengreengreengreengreengreengreengreengreengreengreengreengreengreengreengreengreengreengreengreengreengreengreengreengreengreengreengreengreenyellowgreengreengreengreengreengreengreengreengreengreengreengreengreengreengreengreengreengreengreengreengreengreengreengreengreengreengreengreengreengreengreengreengreengreengreengreengreengreengreengreengreengreengreengreengreengreengreenyellowgreengreengreengreengreengreengreengreengreengreengreenorangegreengreengreengreengreengreengreengreengreengreengreengreengreengreengreengreengreengreengreengreengreengreengreengreengreengreengreengreengreengreengreengreengreengreengreengreengreengreengreengreengreengreengreengreengreengreengreengreengreengreenyellowgreengreengreengreengreengreengreengreengreenyellowgreengreenyellowgreengreengreengreengreengreengreengreengreengreengreengreengreengreengreengreengreengreengreengreengreengreengreengreengreengreengreengreengreengreengreengreengreengreengreengreengreengreenorangegreengreengreengreengreengreengreengreengreengreengreengreengreengreengreengreengreengreengreengreengreengreengreengreengreengreengreengreenyellowgreengreengreengreengreengreengreengreengreengreengreengreengreengreengreengreengreengreengreengreengreengreengreengreengreengreengreengreengreengreenyellowgreengreengreengreengreengreengreengreengreengreengreengreengreengreengreengreengreengreengreengreengreengreengreengreengreengreengreengreengreengreengreengreengreengreengreengreengreengreengreengreengreengreengreengreengreengreengreengreengreengreengreengreengreengreengreengreengreengreengreengreengreengreengreengreengreengreengreengreengreengreengreengreengreengreengreengreengreengreengreengreengreengreengreengreengreengreengreengreengreengreengreengreengreengreengreengreengreengreengreengreengreengreengreengreengreengreengreenyellowgreengreengreengreengreengreengreengreengreengreengreengreengreengreengreengreengreengreengreengreengreengreengreengreengreenyellowgreengreengreengreengreengreengreengreenyellowgreengreengreengreengreengreengreengreengreengreengreengreengreengreengreengreengreengreengreengreenorangegreengreengreenyellowgreengreengreengreengreengreengreengreengreengreengreengreengreengreengreengreengreengreengreengreengreengreengreengreengreengreengreengreengreengreengreengreengreenredgreengreengreenyellowgreengreengreengreengreengreengreengreengreengreengreengreenorangegreengreengreengreengreengreengreengreengreengreengreengreengreengreenyellowgreengreengreengreengreengreengreengreengreengreengreengreengreengreengreengreengreenyellowgreengreenyellowgreengreengreengreengreengreenyellowgreengreengreengreengreengreengreengreengreengreengreengreengreengreengreengreengreengreengreengreengreengreengreengreengreengreengreengreengreengreengreengreengreengreengreengreengreengreengreengreengreengreengreengreengreengreengreengreengreenyellowgreengreengreengreengreengreengreengreengreengreengreengreengreengreengreengreengreengreengreengreengreengreengreengreengreengreengreengreengreengreengreengreengreengreengreengreengreengreengreengreengreengreengreengreengreengreengreengreengreengreengreengreengreengreengreengreengreengreengreengreengreenyellowgreengreengreengreengreengreengreengreengreengreengreengreengreengreengreengreengreengreengreengreengreengreengreengreengreengreengreengreengreengreengreengreengreengreengreengreengreengreengreengreenyellowgreengreengreengreenorangegreengreengreengreenyellowgreengreengreengreengreengreengreengreengreengreengreengreengreengreengreengreengreengreengreengreengreengreengreengreengreenyellowgreengreengreengreengreengreengreengreengreengreengreengreengreengreengreengreengreengreengreenyellowgreengreengreengreengreengreengreengreengreengreengreengreenyellowgreengreengreengreengreengreengreengreengreengreenorangegreengreengreengreengreengreengreengreengreengreengreengreengreengreengreengreengreengreengreengreengreengreengreengreengreengreengreengreengreengreengreengreengreengreengreengreengreengreengreengreengreenorangegreenyellowgreengreengreengreengreengreengreengreengreengreengreengreengreengreengreengreengreengreengreengreengreengreengreengreengreengreengreenyellowgreengreengreengreengreengreengreengreengreengreengreengreengreengreengreengreengreengreengreengreengreengreenyellowgreengreengreengreengreengreengreengreengreengreengreengreengreengreengreengreengreengreengreengreengreengreengreengreengreengreenyellowgreengreenorangegreengreengreengreengreenyellowgreengreengreengreengreengreengreengreengreengreengreengreengreengreenyellowgreengreengreengreengreengreengreengreengreengreengreengreengreengreengreenorangegreengreengreengreengreengreengreengreengreenyellowgreengreengreengreengreenorangegreengreengreengreengreengreengreengreengreengreengreengreengreengreengreenyellowgreengreengreengreengreengreengreengreengreengreengreengreengreengreengreengreengreengreengreengreengreengreengreenyellowgreengreengreengreengreengreengreengreengreengreengreengreengreengreengreengreenyellowyellowgreengreengreengreengreengreengreengreengreengreengreengreengreengreengreengreengreengreengreengreengreengreengreengreengreengreengreengreenyellowgreengreengreengreengreengreenyellowgreengreengreengreenyellowgreengreengreengreengreengreengreengreengreengreengreengreengreengreengreengreengreengreengreengreengreengreengreengreengreengreengreengreengreengreengreengreengreengreengreengreengreengreengreengreenyellowgreengreengreengreengreengreengreengreengreengreengreengreengreengreengreengreenorangegreengreengreengreengreengreengreengreengreengreengreengreengreengreengreengreengreengreengreengreengreengreengreengreengreengreengreengreengreengreengreengreengreengreengreengreengreengreengreengreengreengreengreengreengreengreengreengreengreengreengreengreengreengreengreengreengreengreengreengreengreengreengreengreengreengreengreengreengreengreengreengreengreenyellowyellowgreengreengreengreengreengreengreengreengreengreengreengreengreengreengreengreengreengreengreengreengreengreengreengreengreengreengreengreengreengreengreengreengreengreengreenorangegreengreengreengreengreengreengreengreengreenyellowgreengreengreengreengreengreengreengreengreengreengreengreengreengreengreengreengreengreengreengreengreengreengreengreengreengreengreengreengreenyellowgreengreengreengreengreengreengreengreengreengreengreenyellowgreengreengreengreengreengreengreengreengreengreengreengreengreengreengreengreengreengreengreengreengreengreengreengreengreengreengreengreengreengreengreengreengreengreengreengreengreengreengreengreengreengreenyellowgreengreengreengreengreengreengreengreengreengreengreengreengreengreengreengreengreenyellowgreengreengreengreengreengreengreengreengreengreengreengreengreengreengreengreengreengreengreengreengreengreengreengreengreengreengreengreengreengreengreengreengreengreengreengreengreengreengreengreengreengreengreengreengreengreengreengreengreengreengreengreengreengreengreengreengreengreengreengreengreengreengreengreengreengreengreengreengreengreengreengreengreengreengreengreengreengreengreengreengreengreengreengreengreengreengreengreengreengreengreengreengreengreengreengreengreengreengreengreengreengreengreengreengreengreengreengreengreenyellowgreengreengreengreengreengreengreengreengreengreengreengreengreengreengreengreengreengreengreengreengreengreengreengreengreengreengreengreenorangegreengreengreengreengreengreengreengreengreengreengreengreengreengreengreengreengreengreengreengreengreengreengreengreengreengreengreengreengreengreengreengreengreengreengreengreengreengreengreengreengreengreengreengreengreengreengreengreengreengreengreengreengreengreengreengreengreengreengreengreengreengreengreengreengreengreengreengreengreengreengreengreengreengreengreengreengreengreengreengreengreengreenyellowgreengreengreengreengreengreengreengreengreenorangegreengreengreengreengreengreengreengreengreengreengreengreengreengreengreengreengreengreengreengreengreengreengreengreengreengreengreengreengreengreengreenyellowgreengreengreenyellowgreengreengreengreengreengreengreengreengreengreengreengreengreengreengreengreengreengreengreengreengreengreengreengreenyellowgreengreengreengreengreengreengreengreengreengreengreengreengreengreengreengreengreengreengreengreengreengreengreengreengreengreengreengreengreengreengreengreengreengreengreengreengreengreengreengreengreengreengreengreengreengreengreengreengreenorangegreengreengreengreengreengreengreengreengreengreengreenyellowgreengreengreengreengreengreengreengreengreengreengreengreengreengreengreenyellowgreengreengreengreengreengreengreengreengreengreengreengreengreengreengreenyellowgreengreengreengreengreengreengreenyellowgreengreengreengreengreengreengreengreengreengreengreengreengreengreengreengreengreengreengreengreengreengreengreengreengreengreengreengreengreengreengreengreengreengreengreengreengreengreengreengreengreengreengreengreengreengreengreengreengreengreengreengreengreengreengreengreengreengreengreengreengreengreengreengreengreengreengreengreengreengreengreengreengreengreengreengreengreengreengreengreengreengreengreengreengreengreengreengreengreengreengreengreengreengreenyellowgreenyellowgreengreenyellowgreengreenyellowgreengreengreengreenyellowgreengreengreengreengreengreengreengreengreengreengreengreengreengreengreengreengreengreengreengreengreengreengreengreengreengreengreengreengreengreengreengreengreengreengreengreengreengreengreengreengreengreengreengreengreenredgreengreengreengreengreengreengreengreengreengreengreengreengreengreengreengreengreenredgreengreengreengreengreengreengreengreengreengreengreengreengreengreengreengreengreengreengreengreengreengreengreengreengreengreengreengreengreengreengreengreengreengreengreengreengreengreengreengreengreengreengreengreengreengreengreenorangegreenorangegreenyellowgreengreengreengreengreengreengreengreengreengreengreengreengreengreengreengreengreengreengreengreengreengreengreengreengreengreengreengreengreengreengreengreengreengreengreengreengreengreengreengreengreenyellowgreengreengreengreengreengreengreengreengreengreengreengreengreengreengreengreengreengreengreengreengreengreengreengreengreengreengreengreengreengreengreengreengreengreengreengreengreengreengreengreengreengreengreengreengreengreengreengreengreengreengreengreengreengreengreengreengreengreengreengreengreengreengreengreengreengreengreengreengreengreengreengreenyellowgreengreengreengreengreengreengreengreengreengreengreengreengreengreengreengreenyellowgreengreengreengreengreengreengreengreengreengreengreengreengreengreengreengreengreengreengreengreengreengreengreengreengreengreengreengreengreengreengreengreengreengreengreengreengreengreengreengreengreengreengreengreengreengreengreengreengreengreengreengreengreengreengreengreengreengreengreengreengreengreengreengreenredgreenyellowgreengreengreengreengreengreengreengreengreengreengreengreengreengreengreengreengreengreengreengreengreengreengreengreengreengreengreengreengreengreengreengreengreengreengreengreengreengreengreengreengreengreengreengreengreengreengreengreengreengreengreengreengreengreengreengreengreenredgreengreengreengreengreengreengreengreengreengreengreengreengreenredgreengreengreengreengreengreengreengreengreengreengreengreenyellowgreengreengreengreengreengreengreengreengreengreengreenyellowgreengreengreengreengreengreengreengreengreengreengreengreengreengreengreengreenyellowgreengreengreengreengreengreengreengreengreengreengreengreengreengreenyellowgreengreengreengreengreengreengreengreengreengreengreengreengreengreengreengreengreengreengreengreengreengreengreengreengreengreengreengreengreengreengreengreengreengreengreengreengreengreengreengreengreengreengreengreengreengreengreengreengreenyellowredgreengreengreengreengreengreengreengreengreengreengreengreengreengreengreengreengreengreengreengreenyellowgreengreengreengreengreenyellowgreengreengreengreengreengreengreengreengreengreengreengreengreengreengreengreengreengreengreengreengreengreengreengreengreengreengreengreengreengreengreengreengreengreengreengreengreengreengreengreengreengreengreengreengreengreengreengreengreengreengreengreengreengreengreenyellowgreengreengreengreengreengreenyellowgreengreengreengreengreengreengreengreengreengreengreengreengreengreengreengreengreengreengreengreengreengreengreengreengreengreengreengreengreenyelloworangegreengreenyellowgreengreengreengreengreengreengreengreengreengreengreengreengreengreengreengreengreengreengreenyellowgreengreengreengreengreengreengreengreengreengreengreengreengreenyellowyellowyellowgreengreengreengreengreengreengreengreengreengreengreengreengreengreengreengreengreengreengreengreengreengreengreengreengreengreengreengreengreengreengreengreengreengreengreengreengreengreengreengreengreengreengreengreenyellowgreengreengreengreengreengreengreengreengreengreengreengreengreengreengreengreengreengreengreengreengreengreengreengreengreengreengreengreengreengreengreengreengreengreengreengreengreengreengreengreengreengreengreengreengreengreenredgreenyellowgreengreengreengreengreengreengreengreengreengreengreengreengreengreengreengreengreengreengreengreengreengreengreengreengreengreengreengreengreengreengreengreengreengreengreengreengreengreengreengreengreengreengreengreengreengreengreengreengreengreengreengreengreengreengreengreengreengreengreengreengreengreengreengreengreengreengreengreengreengreengreengreengreengreengreengreengreengreengreengreengreengreengreengreengreengreengreengreengreengreengreengreengreengreengreengreengreengreengreengreengreengreengreengreengreengreengreengreengreengreengreengreengreenyellowgreengreengreengreengreengreengreengreengreengreengreengreengreengreengreengreengreengreengreengreengreengreengreengreengreengreengreengreengreengreengreengreengreengreengreengreengreengreengreengreengreenyellowgreengreengreengreengreengreengreengreengreengreengreengreengreengreengreenyellowyellowgreengreengreengreengreengreengreenyellowgreengreengreengreengreengreengreengreenorangegreengreengreengreengreengreengreengreenyellowgreengreengreengreenyellowyellowyellowgreengreengreengreengreengreengreengreengreengreengreengreengreengreengreengreengreengreengreengreengreengreengreengreengreengreengreengreengreengreengreengreengreengreengreengreengreenyellowyellowgreenyellowgreenyellowgreengreengreengreengreengreengreengreengreengreengreengreengreengreengreengreengreengreengreengreengreengreengreengreengreengreengreengreengreengreengreengreengreengreengreengreenyellowgreengreengreengreengreengreengreengreengreengreengreengreengreengreengreengreengreengreengreengreengreengreengreengreengreengreengreengreengreengreengreengreengreenorangegreengreengreengreengreengreengreengreengreengreengreengreengreengreenyellowgreengreengreengreengreengreengreengreengreengreenyellowgreengreengreengreengreengreengreenyellowgreengreengreenyellowgreengreengreengreengreengreengreengreengreengreengreengreengreengreengreengreengreengreengreengreengreengreengreengreengreengreengreengreengreengreenorangeyellowgreengreengreengreengreengreengreengreengreengreengreengreengreengreengreengreengreengreengreengreengreengreengreengreengreengreengreengreengreengreengreengreengreengreengreengreengreengreengreengreengreengreengreengreengreengreengreengreengreengreengreengreengreengreengreenyellowgreengreengreengreengreengreengreengreengreengreengreengreenorangegreengreengreengreengreengreengreengreengreengreenorangegreengreengreengreengreengreengreengreengreengreengreengreengreengreenyellowgreengreengreengreengreengreengreengreengreengreengreengreengreengreengreengreengreengreengreengreengreengreengreengreengreengreengreengreenyellowgreengreengreengreengreengreengreengreengreengreengreengreenorangegreengreengreengreengreengreengreengreengreengreengreengreengreengreengreengreenyellowgreengreengreengreengreengreengreengreengreengreengreengreengreengreengreengreengreengreengreengreengreengreengreengreengreengreengreenyellowgreengreengreengreengreengreengreengreengreengreengreenyellowgreengreengreenyellowgreengreengreengreengreengreengreengreengreenredyellowyellowgreengreenredyellowgreengreenyellowgreengreengreengreengreengreengreengreengreengreengreengreengreengreengreengreengreenyellowgreengreengreengreengreengreengreengreengreengreengreengreengreenredgreengreengreengreengreengreengreengreengreengreengreengreengreengreengreengreengreengreengreengreengreengreengreengreengreengreengreengreengreengreengreengreengreengreengreengreengreengreengreengreengreengreengreengreengreenorangegreengreengreengreengreengreengreengreengreengreengreengreenredgreengreengreengreengreengreengreengreengreengreengreengreengreenyellowgreengreengreengreengreengreengreengreengreengreengreengreengreengreengreengreengreengreengreengreengreengreengreengreengreengreengreengreengreengreengreengreengreengreengreengreengreengreengreengreengreengreengreenyellowgreengreengreengreengreengreengreengreengreengreengreengreengreengreengreengreengreengreenyellowgreengreengreengreengreengreengreengreengreengreengreengreengreengreengreengreengreengreengreengreengreengreengreengreengreengreengreengreengreengreengreengreengreengreengreengreengreengreengreengreengreengreengreengreengreengreengreengreengreengreengreenyellowgreengreengreengreengreengreengreengreengreengreengreengreengreengreengreengreengreengreengreengreengreengreengreengreengreengreengreengreengreengreengreengreengreengreengreengreengreengreengreengreengreengreengreengreengreengreengreengreengreengreengreengreengreengreengreengreengreengreengreengreengreengreengreengreengreengreengreengreengreengreengreengreengreengreengreengreengreengreengreenyellowgreengreengreengreengreengreengreengreengreengreengreengreengreengreengreengreengreengreengreengreengreengreengreengreengreengreengreengreengreenredgreengreengreengreengreengreengreengreengreengreengreengreengreengreengreengreengreengreengreengreengreengreengreenyelloworangegreengreengreengreengreengreengreengreengreengreenyellowgreengreengreengreengreengreengreengreengreengreengreengreengreengreengreenyellowgreenredgreengreengreengreengreengreengreengreengreengreengreengreengreengreengreengreengreengreengreengreengreengreengreengreengreengreengreengreengreengreengreengreengreengreengreengreengreengreengreengreengreengreengreengreengreengreengreengreengreengreengreengreengreengreengreengreengreengreengreengreengreenorangeyelloworangeyellowgreengreengreengreengreengreengreengreengreengreengreengreenredgreengreengreengreengreengreengreenorangeyellowgreengreengreengreengreengreengreengreengreengreengreengreengreengreengreengreengreengreengreengreengreengreengreengreengreengreengreengreengreengreenyellowgreengreengreengreengreenyellowgreengreengreengreengreengreengreengreengreengreengreengreengreengreengreengreengreengreengreengreengreengreengreengreengreengreengreengreengreengreenyellowgreengreengreengreengreengreengreengreengreengreengreengreengreengreengreengreengreengreengreengreengreengreengreengreenyellowgreengreengreenyellowgreengreengreengreengreengreengreengreengreengreengreengreengreengreengreengreengreengreengreengreengreengreengreengreengreengreengreengreengreengreengreengreengreengreengreengreengreengreengreengreengreengreengreengreengreengreengreengreengreengreengreengreengreengreengreengreengreengreengreengreengreengreengreengreengreengreengreengreengreengreengreengreengreengreengreengreengreenredgreengreengreengreengreengreengreengreengreengreengreengreengreengreengreengreengreengreengreengreengreengreengreengreengreenredgreengreengreengreengreengreengreengreengreengreengreengreengreengreengreengreengreengreengreengreengreengreengreengreengreengreengreenyellowgreengreengreengreengreengreenredyellowgreengreengreengreengreengreengreengreengreengreengreengreengreengreengreengreengreengreenyellowgreengreengreengreengreengreengreengreengreengreengreengreengreengreengreengreengreengreengreengreengreengreengreengreengreengreengreengreengreengreengreengreengreengreengreengreengreengreengreengreengreengreengreengreengreengreengreenyellowgreengreengreengreenyellowgreengreengreengreengreengreengreengreengreengreengreengreengreengreengreengreengreengreengreengreenyellowgreengreengreengreengreengreengreengreengreengreengreengreengreengreengreengreengreengreengreenyellowgreengreengreengreengreengreengreengreengreengreengreengreengreengreengreengreengreengreengreengreengreengreengreengreengreenyellowgreengreengreengreengreengreengreengreengreengreengreengreengreenyellowgreengreengreengreengreengreengreengreengreengreengreengreengreengreengreengreengreengreengreengreengreengreengreengreengreengreengreengreengreengreengreengreengreengreengreengreengreenyellowgreengreengreengreengreengreengreengreengreengreengreengreengreengreengreengreengreengreengreengreengreengreengreengreengreengreengreengreengreengreenyellowgreengreengreengreengreengreengreengreengreengreengreengreengreengreengreengreengreengreengreengreengreengreengreengreengreengreengreengreengreengreengreengreengreengreengreengreengreengreengreengreengreenyellowgreengreengreengreengreengreengreengreengreengreengreengreengreengreengreengreengreengreengreengreengreengreengreengreengreengreengreengreengreengreengreengreengreengreengreengreengreengreengreengreengreengreengreengreengreengreengreengreengreengreengreengreengreengreengreengreengreenyellowgreengreengreengreengreengreengreengreengreengreengreengreengreengreengreengreengreengreengreengreengreengreengreengreengreengreengreengreengreengreengreengreengreengreengreengreengreengreengreengreengreengreengreengreengreengreengreengreengreengreengreengreengreengreengreengreengreengreengreengreengreengreengreengreengreengreengreengreengreengreengreengreengreengreengreengreengreengreengreengreengreengreengreengreengreengreengreengreengreengreenyellowgreengreengreengreengreengreengreengreengreengreengreengreengreengreengreengreengreengreengreengreengreengreengreengreengreengreengreengreengreengreengreengreengreengreengreengreengreenyellowgreengreengreengreengreengreengreengreengreengreengreengreengreengreengreengreengreengreengreengreengreengreengreengreenyellowgreengreengreengreengreengreengreengreengreengreengreengreengreengreengreengreengreenyellowgreengreengreengreengreengreengreengreengreengreengreenyellowgreengreengreengreengreengreengreengreengreengreen'"
            ],
            "application/vnd.google.colaboratory.intrinsic+json": {
              "type": "string"
            }
          },
          "metadata": {},
          "execution_count": 8
        }
      ]
    },
    {
      "cell_type": "code",
      "source": [
        "df['Alert'] = df['Alert'].map({'green': 1, 'yellow': 0})\n",
        "print(df)"
      ],
      "metadata": {
        "colab": {
          "base_uri": "https://localhost:8080/"
        },
        "id": "YrAtJ21nbOmg",
        "outputId": "882785df-56dd-4df9-e065-e35636450b7c"
      },
      "execution_count": null,
      "outputs": [
        {
          "output_type": "stream",
          "name": "stdout",
          "text": [
            "                                  time   latitude   longitude   depth   mag  \\\n",
            "0     1976-03-25 00:41:20.500000+00:00  35.590000  -90.480000  15.000  4.62   \n",
            "1     1979-10-16 06:58:43.450000+00:00  32.998667 -115.557500  14.190  5.80   \n",
            "2     1980-07-27 18:52:21.600000+00:00  38.190000  -83.950000  10.000  5.00   \n",
            "3     1981-04-19 09:02:50.520000+00:00  35.816000 -117.816333   4.766  4.70   \n",
            "4     1981-04-26 12:09:28.290000+00:00  33.095500 -115.624500  18.904  5.75   \n",
            "...                                ...        ...         ...     ...   ...   \n",
            "7712  2024-12-19 02:07:02.552000+00:00 -56.357400  147.017000  10.000  5.70   \n",
            "7713  2024-12-20 14:33:08.325000+00:00 -11.751300  166.170800  25.375  5.40   \n",
            "7714  2024-12-21 15:30:53.243000+00:00 -17.709800  168.029200  46.000  6.10   \n",
            "7715  2024-12-22 03:56:04.489000+00:00  55.982500 -153.997300   9.200  5.60   \n",
            "7716  2024-12-23 06:00:59.074000+00:00  19.916200  -76.515300  22.241  5.90   \n",
            "\n",
            "     magType    nst    gap      dmin   rms  ...  \\\n",
            "0         mw    NaN    NaN       NaN   NaN  ...   \n",
            "1         ml    7.0   79.0   0.05768  0.17  ...   \n",
            "2         md    NaN    NaN       NaN   NaN  ...   \n",
            "3         ml   13.0  135.0       NaN  0.66  ...   \n",
            "4         ml   81.0   34.0       NaN  0.34  ...   \n",
            "...      ...    ...    ...       ...   ...  ...   \n",
            "7712     mww   38.0  109.0  13.46200  0.62  ...   \n",
            "7713     mww   74.0  114.0   6.53500  0.86  ...   \n",
            "7714     mww  132.0   32.0   4.52800  0.55  ...   \n",
            "7715      ml    NaN    NaN       NaN  0.49  ...   \n",
            "7716     mww   55.0   50.0   0.11200  0.81  ...   \n",
            "\n",
            "                                            place        type horizontalError  \\\n",
            "0                8 km NW of Marked Tree, Arkansas  earthquake             NaN   \n",
            "1                           3km NW of Brawley, CA  earthquake            1.03   \n",
            "2                 2 km SW of Sharpsburg, Kentucky  earthquake             NaN   \n",
            "3                     16km SSE of Little Lake, CA  earthquake            2.51   \n",
            "4     The 1981 Westmorland, California Earthquake  earthquake            0.56   \n",
            "...                                           ...         ...             ...   \n",
            "7712                     west of Macquarie Island  earthquake           12.18   \n",
            "7713          120 km SSE of Lata, Solomon Islands  earthquake           10.36   \n",
            "7714                30 km W of Port-Vila, Vanuatu  earthquake            8.73   \n",
            "7715                   107 km S of Akhiok, Alaska  earthquake             NaN   \n",
            "7716                       37 km S of Guisa, Cuba  earthquake            2.78   \n",
            "\n",
            "     depthError magError  magNst    status  locationSource  magSource Alert  \n",
            "0           NaN      NaN     0.0  reviewed              nm         nm   1.0  \n",
            "1         1.780      NaN     0.0  reviewed              ci         ci   0.0  \n",
            "2           NaN      NaN     NaN  reviewed              se         se   1.0  \n",
            "3        31.610    0.424     9.0  reviewed              ci         ci   1.0  \n",
            "4         0.670    0.161     6.0  reviewed              ci         ci   1.0  \n",
            "...         ...      ...     ...       ...             ...        ...   ...  \n",
            "7712      1.916    0.056    31.0  reviewed              us         us   1.0  \n",
            "7713      5.288    0.062    25.0  reviewed              us         us   1.0  \n",
            "7714      1.944    0.038    66.0  reviewed              us         us   1.0  \n",
            "7715      1.500      NaN     NaN  reviewed              ak         ak   1.0  \n",
            "7716      6.255    0.030   107.0  reviewed              us         us   1.0  \n",
            "\n",
            "[7717 rows x 23 columns]\n"
          ]
        }
      ]
    },
    {
      "cell_type": "code",
      "source": [
        "df.describe()"
      ],
      "metadata": {
        "colab": {
          "base_uri": "https://localhost:8080/",
          "height": 320
        },
        "id": "m_GTwiVsbOoj",
        "outputId": "494ced98-14a2-4720-ba35-b6750c61caee"
      },
      "execution_count": null,
      "outputs": [
        {
          "output_type": "execute_result",
          "data": {
            "text/plain": [
              "          latitude    longitude        depth          mag          nst  \\\n",
              "count  7717.000000  7717.000000  7717.000000  7717.000000  2404.000000   \n",
              "mean      1.045090    14.813158    58.852818     5.656460   147.059900   \n",
              "std      32.336895   128.439465   119.054871     0.514043   116.907505   \n",
              "min     -69.773900  -179.977600    -1.770000     4.500000     0.000000   \n",
              "25%     -21.720500  -110.836000    10.000000     5.400000    75.000000   \n",
              "50%      -3.433600    40.021100    13.540000     5.600000   119.000000   \n",
              "75%      28.199800   141.086700    42.000000     5.900000   182.000000   \n",
              "max      85.729000   179.998100   670.810000     8.600000   770.000000   \n",
              "\n",
              "               gap         dmin          rms  horizontalError   depthError  \\\n",
              "count  7393.000000  7015.000000  7691.000000      6499.000000  7508.000000   \n",
              "mean     49.049605     4.099935     0.820820         6.956036     2.578836   \n",
              "std      39.095080     5.256580     0.267801         2.825249     3.171284   \n",
              "min       7.000000     0.000000     0.040000         0.080000     0.000000   \n",
              "25%      25.000000     1.035000     0.660000         5.555000     1.700000   \n",
              "50%      38.000000     2.399000     0.820000         7.100000     1.800000   \n",
              "75%      59.000000     4.957500     0.990000         8.600000     2.900000   \n",
              "max     321.000000    39.934000     2.100000        88.540000    31.950000   \n",
              "\n",
              "          magError       magNst        Alert  \n",
              "count  5486.000000  5650.000000  7632.000000  \n",
              "mean      0.067912    46.789558     0.967767  \n",
              "std       0.057431    70.149373     0.176629  \n",
              "min       0.000000     0.000000     0.000000  \n",
              "25%       0.047000    18.000000     1.000000  \n",
              "50%       0.059000    29.000000     1.000000  \n",
              "75%       0.073000    47.000000     1.000000  \n",
              "max       1.642000   954.000000     1.000000  "
            ],
            "text/html": [
              "\n",
              "  <div id=\"df-7f48481c-caa8-4132-b0d2-e6930e4b26af\" class=\"colab-df-container\">\n",
              "    <div>\n",
              "<style scoped>\n",
              "    .dataframe tbody tr th:only-of-type {\n",
              "        vertical-align: middle;\n",
              "    }\n",
              "\n",
              "    .dataframe tbody tr th {\n",
              "        vertical-align: top;\n",
              "    }\n",
              "\n",
              "    .dataframe thead th {\n",
              "        text-align: right;\n",
              "    }\n",
              "</style>\n",
              "<table border=\"1\" class=\"dataframe\">\n",
              "  <thead>\n",
              "    <tr style=\"text-align: right;\">\n",
              "      <th></th>\n",
              "      <th>latitude</th>\n",
              "      <th>longitude</th>\n",
              "      <th>depth</th>\n",
              "      <th>mag</th>\n",
              "      <th>nst</th>\n",
              "      <th>gap</th>\n",
              "      <th>dmin</th>\n",
              "      <th>rms</th>\n",
              "      <th>horizontalError</th>\n",
              "      <th>depthError</th>\n",
              "      <th>magError</th>\n",
              "      <th>magNst</th>\n",
              "      <th>Alert</th>\n",
              "    </tr>\n",
              "  </thead>\n",
              "  <tbody>\n",
              "    <tr>\n",
              "      <th>count</th>\n",
              "      <td>7717.000000</td>\n",
              "      <td>7717.000000</td>\n",
              "      <td>7717.000000</td>\n",
              "      <td>7717.000000</td>\n",
              "      <td>2404.000000</td>\n",
              "      <td>7393.000000</td>\n",
              "      <td>7015.000000</td>\n",
              "      <td>7691.000000</td>\n",
              "      <td>6499.000000</td>\n",
              "      <td>7508.000000</td>\n",
              "      <td>5486.000000</td>\n",
              "      <td>5650.000000</td>\n",
              "      <td>7632.000000</td>\n",
              "    </tr>\n",
              "    <tr>\n",
              "      <th>mean</th>\n",
              "      <td>1.045090</td>\n",
              "      <td>14.813158</td>\n",
              "      <td>58.852818</td>\n",
              "      <td>5.656460</td>\n",
              "      <td>147.059900</td>\n",
              "      <td>49.049605</td>\n",
              "      <td>4.099935</td>\n",
              "      <td>0.820820</td>\n",
              "      <td>6.956036</td>\n",
              "      <td>2.578836</td>\n",
              "      <td>0.067912</td>\n",
              "      <td>46.789558</td>\n",
              "      <td>0.967767</td>\n",
              "    </tr>\n",
              "    <tr>\n",
              "      <th>std</th>\n",
              "      <td>32.336895</td>\n",
              "      <td>128.439465</td>\n",
              "      <td>119.054871</td>\n",
              "      <td>0.514043</td>\n",
              "      <td>116.907505</td>\n",
              "      <td>39.095080</td>\n",
              "      <td>5.256580</td>\n",
              "      <td>0.267801</td>\n",
              "      <td>2.825249</td>\n",
              "      <td>3.171284</td>\n",
              "      <td>0.057431</td>\n",
              "      <td>70.149373</td>\n",
              "      <td>0.176629</td>\n",
              "    </tr>\n",
              "    <tr>\n",
              "      <th>min</th>\n",
              "      <td>-69.773900</td>\n",
              "      <td>-179.977600</td>\n",
              "      <td>-1.770000</td>\n",
              "      <td>4.500000</td>\n",
              "      <td>0.000000</td>\n",
              "      <td>7.000000</td>\n",
              "      <td>0.000000</td>\n",
              "      <td>0.040000</td>\n",
              "      <td>0.080000</td>\n",
              "      <td>0.000000</td>\n",
              "      <td>0.000000</td>\n",
              "      <td>0.000000</td>\n",
              "      <td>0.000000</td>\n",
              "    </tr>\n",
              "    <tr>\n",
              "      <th>25%</th>\n",
              "      <td>-21.720500</td>\n",
              "      <td>-110.836000</td>\n",
              "      <td>10.000000</td>\n",
              "      <td>5.400000</td>\n",
              "      <td>75.000000</td>\n",
              "      <td>25.000000</td>\n",
              "      <td>1.035000</td>\n",
              "      <td>0.660000</td>\n",
              "      <td>5.555000</td>\n",
              "      <td>1.700000</td>\n",
              "      <td>0.047000</td>\n",
              "      <td>18.000000</td>\n",
              "      <td>1.000000</td>\n",
              "    </tr>\n",
              "    <tr>\n",
              "      <th>50%</th>\n",
              "      <td>-3.433600</td>\n",
              "      <td>40.021100</td>\n",
              "      <td>13.540000</td>\n",
              "      <td>5.600000</td>\n",
              "      <td>119.000000</td>\n",
              "      <td>38.000000</td>\n",
              "      <td>2.399000</td>\n",
              "      <td>0.820000</td>\n",
              "      <td>7.100000</td>\n",
              "      <td>1.800000</td>\n",
              "      <td>0.059000</td>\n",
              "      <td>29.000000</td>\n",
              "      <td>1.000000</td>\n",
              "    </tr>\n",
              "    <tr>\n",
              "      <th>75%</th>\n",
              "      <td>28.199800</td>\n",
              "      <td>141.086700</td>\n",
              "      <td>42.000000</td>\n",
              "      <td>5.900000</td>\n",
              "      <td>182.000000</td>\n",
              "      <td>59.000000</td>\n",
              "      <td>4.957500</td>\n",
              "      <td>0.990000</td>\n",
              "      <td>8.600000</td>\n",
              "      <td>2.900000</td>\n",
              "      <td>0.073000</td>\n",
              "      <td>47.000000</td>\n",
              "      <td>1.000000</td>\n",
              "    </tr>\n",
              "    <tr>\n",
              "      <th>max</th>\n",
              "      <td>85.729000</td>\n",
              "      <td>179.998100</td>\n",
              "      <td>670.810000</td>\n",
              "      <td>8.600000</td>\n",
              "      <td>770.000000</td>\n",
              "      <td>321.000000</td>\n",
              "      <td>39.934000</td>\n",
              "      <td>2.100000</td>\n",
              "      <td>88.540000</td>\n",
              "      <td>31.950000</td>\n",
              "      <td>1.642000</td>\n",
              "      <td>954.000000</td>\n",
              "      <td>1.000000</td>\n",
              "    </tr>\n",
              "  </tbody>\n",
              "</table>\n",
              "</div>\n",
              "    <div class=\"colab-df-buttons\">\n",
              "\n",
              "  <div class=\"colab-df-container\">\n",
              "    <button class=\"colab-df-convert\" onclick=\"convertToInteractive('df-7f48481c-caa8-4132-b0d2-e6930e4b26af')\"\n",
              "            title=\"Convert this dataframe to an interactive table.\"\n",
              "            style=\"display:none;\">\n",
              "\n",
              "  <svg xmlns=\"http://www.w3.org/2000/svg\" height=\"24px\" viewBox=\"0 -960 960 960\">\n",
              "    <path d=\"M120-120v-720h720v720H120Zm60-500h600v-160H180v160Zm220 220h160v-160H400v160Zm0 220h160v-160H400v160ZM180-400h160v-160H180v160Zm440 0h160v-160H620v160ZM180-180h160v-160H180v160Zm440 0h160v-160H620v160Z\"/>\n",
              "  </svg>\n",
              "    </button>\n",
              "\n",
              "  <style>\n",
              "    .colab-df-container {\n",
              "      display:flex;\n",
              "      gap: 12px;\n",
              "    }\n",
              "\n",
              "    .colab-df-convert {\n",
              "      background-color: #E8F0FE;\n",
              "      border: none;\n",
              "      border-radius: 50%;\n",
              "      cursor: pointer;\n",
              "      display: none;\n",
              "      fill: #1967D2;\n",
              "      height: 32px;\n",
              "      padding: 0 0 0 0;\n",
              "      width: 32px;\n",
              "    }\n",
              "\n",
              "    .colab-df-convert:hover {\n",
              "      background-color: #E2EBFA;\n",
              "      box-shadow: 0px 1px 2px rgba(60, 64, 67, 0.3), 0px 1px 3px 1px rgba(60, 64, 67, 0.15);\n",
              "      fill: #174EA6;\n",
              "    }\n",
              "\n",
              "    .colab-df-buttons div {\n",
              "      margin-bottom: 4px;\n",
              "    }\n",
              "\n",
              "    [theme=dark] .colab-df-convert {\n",
              "      background-color: #3B4455;\n",
              "      fill: #D2E3FC;\n",
              "    }\n",
              "\n",
              "    [theme=dark] .colab-df-convert:hover {\n",
              "      background-color: #434B5C;\n",
              "      box-shadow: 0px 1px 3px 1px rgba(0, 0, 0, 0.15);\n",
              "      filter: drop-shadow(0px 1px 2px rgba(0, 0, 0, 0.3));\n",
              "      fill: #FFFFFF;\n",
              "    }\n",
              "  </style>\n",
              "\n",
              "    <script>\n",
              "      const buttonEl =\n",
              "        document.querySelector('#df-7f48481c-caa8-4132-b0d2-e6930e4b26af button.colab-df-convert');\n",
              "      buttonEl.style.display =\n",
              "        google.colab.kernel.accessAllowed ? 'block' : 'none';\n",
              "\n",
              "      async function convertToInteractive(key) {\n",
              "        const element = document.querySelector('#df-7f48481c-caa8-4132-b0d2-e6930e4b26af');\n",
              "        const dataTable =\n",
              "          await google.colab.kernel.invokeFunction('convertToInteractive',\n",
              "                                                    [key], {});\n",
              "        if (!dataTable) return;\n",
              "\n",
              "        const docLinkHtml = 'Like what you see? Visit the ' +\n",
              "          '<a target=\"_blank\" href=https://colab.research.google.com/notebooks/data_table.ipynb>data table notebook</a>'\n",
              "          + ' to learn more about interactive tables.';\n",
              "        element.innerHTML = '';\n",
              "        dataTable['output_type'] = 'display_data';\n",
              "        await google.colab.output.renderOutput(dataTable, element);\n",
              "        const docLink = document.createElement('div');\n",
              "        docLink.innerHTML = docLinkHtml;\n",
              "        element.appendChild(docLink);\n",
              "      }\n",
              "    </script>\n",
              "  </div>\n",
              "\n",
              "\n",
              "<div id=\"df-4e5da711-feaa-43d0-a48d-bddedddf3207\">\n",
              "  <button class=\"colab-df-quickchart\" onclick=\"quickchart('df-4e5da711-feaa-43d0-a48d-bddedddf3207')\"\n",
              "            title=\"Suggest charts\"\n",
              "            style=\"display:none;\">\n",
              "\n",
              "<svg xmlns=\"http://www.w3.org/2000/svg\" height=\"24px\"viewBox=\"0 0 24 24\"\n",
              "     width=\"24px\">\n",
              "    <g>\n",
              "        <path d=\"M19 3H5c-1.1 0-2 .9-2 2v14c0 1.1.9 2 2 2h14c1.1 0 2-.9 2-2V5c0-1.1-.9-2-2-2zM9 17H7v-7h2v7zm4 0h-2V7h2v10zm4 0h-2v-4h2v4z\"/>\n",
              "    </g>\n",
              "</svg>\n",
              "  </button>\n",
              "\n",
              "<style>\n",
              "  .colab-df-quickchart {\n",
              "      --bg-color: #E8F0FE;\n",
              "      --fill-color: #1967D2;\n",
              "      --hover-bg-color: #E2EBFA;\n",
              "      --hover-fill-color: #174EA6;\n",
              "      --disabled-fill-color: #AAA;\n",
              "      --disabled-bg-color: #DDD;\n",
              "  }\n",
              "\n",
              "  [theme=dark] .colab-df-quickchart {\n",
              "      --bg-color: #3B4455;\n",
              "      --fill-color: #D2E3FC;\n",
              "      --hover-bg-color: #434B5C;\n",
              "      --hover-fill-color: #FFFFFF;\n",
              "      --disabled-bg-color: #3B4455;\n",
              "      --disabled-fill-color: #666;\n",
              "  }\n",
              "\n",
              "  .colab-df-quickchart {\n",
              "    background-color: var(--bg-color);\n",
              "    border: none;\n",
              "    border-radius: 50%;\n",
              "    cursor: pointer;\n",
              "    display: none;\n",
              "    fill: var(--fill-color);\n",
              "    height: 32px;\n",
              "    padding: 0;\n",
              "    width: 32px;\n",
              "  }\n",
              "\n",
              "  .colab-df-quickchart:hover {\n",
              "    background-color: var(--hover-bg-color);\n",
              "    box-shadow: 0 1px 2px rgba(60, 64, 67, 0.3), 0 1px 3px 1px rgba(60, 64, 67, 0.15);\n",
              "    fill: var(--button-hover-fill-color);\n",
              "  }\n",
              "\n",
              "  .colab-df-quickchart-complete:disabled,\n",
              "  .colab-df-quickchart-complete:disabled:hover {\n",
              "    background-color: var(--disabled-bg-color);\n",
              "    fill: var(--disabled-fill-color);\n",
              "    box-shadow: none;\n",
              "  }\n",
              "\n",
              "  .colab-df-spinner {\n",
              "    border: 2px solid var(--fill-color);\n",
              "    border-color: transparent;\n",
              "    border-bottom-color: var(--fill-color);\n",
              "    animation:\n",
              "      spin 1s steps(1) infinite;\n",
              "  }\n",
              "\n",
              "  @keyframes spin {\n",
              "    0% {\n",
              "      border-color: transparent;\n",
              "      border-bottom-color: var(--fill-color);\n",
              "      border-left-color: var(--fill-color);\n",
              "    }\n",
              "    20% {\n",
              "      border-color: transparent;\n",
              "      border-left-color: var(--fill-color);\n",
              "      border-top-color: var(--fill-color);\n",
              "    }\n",
              "    30% {\n",
              "      border-color: transparent;\n",
              "      border-left-color: var(--fill-color);\n",
              "      border-top-color: var(--fill-color);\n",
              "      border-right-color: var(--fill-color);\n",
              "    }\n",
              "    40% {\n",
              "      border-color: transparent;\n",
              "      border-right-color: var(--fill-color);\n",
              "      border-top-color: var(--fill-color);\n",
              "    }\n",
              "    60% {\n",
              "      border-color: transparent;\n",
              "      border-right-color: var(--fill-color);\n",
              "    }\n",
              "    80% {\n",
              "      border-color: transparent;\n",
              "      border-right-color: var(--fill-color);\n",
              "      border-bottom-color: var(--fill-color);\n",
              "    }\n",
              "    90% {\n",
              "      border-color: transparent;\n",
              "      border-bottom-color: var(--fill-color);\n",
              "    }\n",
              "  }\n",
              "</style>\n",
              "\n",
              "  <script>\n",
              "    async function quickchart(key) {\n",
              "      const quickchartButtonEl =\n",
              "        document.querySelector('#' + key + ' button');\n",
              "      quickchartButtonEl.disabled = true;  // To prevent multiple clicks.\n",
              "      quickchartButtonEl.classList.add('colab-df-spinner');\n",
              "      try {\n",
              "        const charts = await google.colab.kernel.invokeFunction(\n",
              "            'suggestCharts', [key], {});\n",
              "      } catch (error) {\n",
              "        console.error('Error during call to suggestCharts:', error);\n",
              "      }\n",
              "      quickchartButtonEl.classList.remove('colab-df-spinner');\n",
              "      quickchartButtonEl.classList.add('colab-df-quickchart-complete');\n",
              "    }\n",
              "    (() => {\n",
              "      let quickchartButtonEl =\n",
              "        document.querySelector('#df-4e5da711-feaa-43d0-a48d-bddedddf3207 button');\n",
              "      quickchartButtonEl.style.display =\n",
              "        google.colab.kernel.accessAllowed ? 'block' : 'none';\n",
              "    })();\n",
              "  </script>\n",
              "</div>\n",
              "\n",
              "    </div>\n",
              "  </div>\n"
            ],
            "application/vnd.google.colaboratory.intrinsic+json": {
              "type": "dataframe",
              "summary": "{\n  \"name\": \"df\",\n  \"rows\": 8,\n  \"fields\": [\n    {\n      \"column\": \"latitude\",\n      \"properties\": {\n        \"dtype\": \"number\",\n        \"std\": 2726.0966028486196,\n        \"min\": -69.7739,\n        \"max\": 7717.0,\n        \"num_unique_values\": 8,\n        \"samples\": [\n          1.0450901226901648,\n          -3.4336,\n          7717.0\n        ],\n        \"semantic_type\": \"\",\n        \"description\": \"\"\n      }\n    },\n    {\n      \"column\": \"longitude\",\n      \"properties\": {\n        \"dtype\": \"number\",\n        \"std\": 2720.4436427962496,\n        \"min\": -179.9776,\n        \"max\": 7717.0,\n        \"num_unique_values\": 8,\n        \"samples\": [\n          14.813158487668352,\n          40.0211,\n          7717.0\n        ],\n        \"semantic_type\": \"\",\n        \"description\": \"\"\n      }\n    },\n    {\n      \"column\": \"depth\",\n      \"properties\": {\n        \"dtype\": \"number\",\n        \"std\": 2691.607486123526,\n        \"min\": -1.77,\n        \"max\": 7717.0,\n        \"num_unique_values\": 8,\n        \"samples\": [\n          58.85281783420526,\n          13.54,\n          7717.0\n        ],\n        \"semantic_type\": \"\",\n        \"description\": \"\"\n      }\n    },\n    {\n      \"column\": \"mag\",\n      \"properties\": {\n        \"dtype\": \"number\",\n        \"std\": 2726.5455432241793,\n        \"min\": 0.5140426032157234,\n        \"max\": 7717.0,\n        \"num_unique_values\": 8,\n        \"samples\": [\n          5.656459764157055,\n          5.6,\n          7717.0\n        ],\n        \"semantic_type\": \"\",\n        \"description\": \"\"\n      }\n    },\n    {\n      \"column\": \"nst\",\n      \"properties\": {\n        \"dtype\": \"number\",\n        \"std\": 814.3381675657946,\n        \"min\": 0.0,\n        \"max\": 2404.0,\n        \"num_unique_values\": 8,\n        \"samples\": [\n          147.05990016638935,\n          119.0,\n          2404.0\n        ],\n        \"semantic_type\": \"\",\n        \"description\": \"\"\n      }\n    },\n    {\n      \"column\": \"gap\",\n      \"properties\": {\n        \"dtype\": \"number\",\n        \"std\": 2588.605286022618,\n        \"min\": 7.0,\n        \"max\": 7393.0,\n        \"num_unique_values\": 8,\n        \"samples\": [\n          49.049605031786825,\n          38.0,\n          7393.0\n        ],\n        \"semantic_type\": \"\",\n        \"description\": \"\"\n      }\n    },\n    {\n      \"column\": \"dmin\",\n      \"properties\": {\n        \"dtype\": \"number\",\n        \"std\": 2477.298116595728,\n        \"min\": 0.0,\n        \"max\": 7015.0,\n        \"num_unique_values\": 8,\n        \"samples\": [\n          4.099934655349133,\n          2.399,\n          7015.0\n        ],\n        \"semantic_type\": \"\",\n        \"description\": \"\"\n      }\n    },\n    {\n      \"column\": \"rms\",\n      \"properties\": {\n        \"dtype\": \"number\",\n        \"std\": 2718.8913716601046,\n        \"min\": 0.04,\n        \"max\": 7691.0,\n        \"num_unique_values\": 8,\n        \"samples\": [\n          0.8208204784813419,\n          0.82,\n          7691.0\n        ],\n        \"semantic_type\": \"\",\n        \"description\": \"\"\n      }\n    },\n    {\n      \"column\": \"horizontalError\",\n      \"properties\": {\n        \"dtype\": \"number\",\n        \"std\": 2291.8871063319993,\n        \"min\": 0.08,\n        \"max\": 6499.0,\n        \"num_unique_values\": 8,\n        \"samples\": [\n          6.9560357835727205,\n          7.1,\n          6499.0\n        ],\n        \"semantic_type\": \"\",\n        \"description\": \"\"\n      }\n    },\n    {\n      \"column\": \"depthError\",\n      \"properties\": {\n        \"dtype\": \"number\",\n        \"std\": 2652.27231477907,\n        \"min\": 0.0,\n        \"max\": 7508.0,\n        \"num_unique_values\": 8,\n        \"samples\": [\n          2.578836379523105,\n          1.8,\n          7508.0\n        ],\n        \"semantic_type\": \"\",\n        \"description\": \"\"\n      }\n    },\n    {\n      \"column\": \"magError\",\n      \"properties\": {\n        \"dtype\": \"number\",\n        \"std\": 1939.4956756905149,\n        \"min\": 0.0,\n        \"max\": 5486.0,\n        \"num_unique_values\": 8,\n        \"samples\": [\n          0.06791163672489567,\n          0.059,\n          5486.0\n        ],\n        \"semantic_type\": \"\",\n        \"description\": \"\"\n      }\n    },\n    {\n      \"column\": \"magNst\",\n      \"properties\": {\n        \"dtype\": \"number\",\n        \"std\": 1965.330801659085,\n        \"min\": 0.0,\n        \"max\": 5650.0,\n        \"num_unique_values\": 8,\n        \"samples\": [\n          46.78955752212389,\n          29.0,\n          5650.0\n        ],\n        \"semantic_type\": \"\",\n        \"description\": \"\"\n      }\n    },\n    {\n      \"column\": \"Alert\",\n      \"properties\": {\n        \"dtype\": \"number\",\n        \"std\": 2698.0596771784644,\n        \"min\": 0.0,\n        \"max\": 7632.0,\n        \"num_unique_values\": 5,\n        \"samples\": [\n          0.9677672955974843,\n          1.0,\n          0.17662911690136723\n        ],\n        \"semantic_type\": \"\",\n        \"description\": \"\"\n      }\n    }\n  ]\n}"
            }
          },
          "metadata": {},
          "execution_count": 10
        }
      ]
    },
    {
      "cell_type": "code",
      "source": [
        "df.shape"
      ],
      "metadata": {
        "colab": {
          "base_uri": "https://localhost:8080/"
        },
        "id": "n8HS9dZPbOq0",
        "outputId": "52a41b3b-3804-4bb2-db3f-69d5b806b41c"
      },
      "execution_count": null,
      "outputs": [
        {
          "output_type": "execute_result",
          "data": {
            "text/plain": [
              "(7717, 23)"
            ]
          },
          "metadata": {},
          "execution_count": 11
        }
      ]
    },
    {
      "cell_type": "code",
      "source": [
        "df.columns"
      ],
      "metadata": {
        "colab": {
          "base_uri": "https://localhost:8080/"
        },
        "id": "r3slDkYWbOs2",
        "outputId": "15de9a20-8960-4f30-a2cf-c35ebcd844d3"
      },
      "execution_count": null,
      "outputs": [
        {
          "output_type": "execute_result",
          "data": {
            "text/plain": [
              "Index(['time', 'latitude', 'longitude', 'depth', 'mag', 'magType', 'nst',\n",
              "       'gap', 'dmin', 'rms', 'net', 'id', 'updated', 'place', 'type',\n",
              "       'horizontalError', 'depthError', 'magError', 'magNst', 'status',\n",
              "       'locationSource', 'magSource', 'Alert'],\n",
              "      dtype='object')"
            ]
          },
          "metadata": {},
          "execution_count": 12
        }
      ]
    },
    {
      "cell_type": "code",
      "source": [
        "df.info()"
      ],
      "metadata": {
        "colab": {
          "base_uri": "https://localhost:8080/"
        },
        "id": "AR6ReIzqcf2Y",
        "outputId": "6dc4b399-2b47-48af-ca9d-29375fd95385"
      },
      "execution_count": null,
      "outputs": [
        {
          "output_type": "stream",
          "name": "stdout",
          "text": [
            "<class 'pandas.core.frame.DataFrame'>\n",
            "RangeIndex: 7717 entries, 0 to 7716\n",
            "Data columns (total 23 columns):\n",
            " #   Column           Non-Null Count  Dtype  \n",
            "---  ------           --------------  -----  \n",
            " 0   time             7717 non-null   object \n",
            " 1   latitude         7717 non-null   float64\n",
            " 2   longitude        7717 non-null   float64\n",
            " 3   depth            7717 non-null   float64\n",
            " 4   mag              7717 non-null   float64\n",
            " 5   magType          7717 non-null   object \n",
            " 6   nst              2404 non-null   float64\n",
            " 7   gap              7393 non-null   float64\n",
            " 8   dmin             7015 non-null   float64\n",
            " 9   rms              7691 non-null   float64\n",
            " 10  net              7717 non-null   object \n",
            " 11  id               7717 non-null   object \n",
            " 12  updated          7717 non-null   object \n",
            " 13  place            7717 non-null   object \n",
            " 14  type             7717 non-null   object \n",
            " 15  horizontalError  6499 non-null   float64\n",
            " 16  depthError       7508 non-null   float64\n",
            " 17  magError         5486 non-null   float64\n",
            " 18  magNst           5650 non-null   float64\n",
            " 19  status           7717 non-null   object \n",
            " 20  locationSource   7717 non-null   object \n",
            " 21  magSource        7717 non-null   object \n",
            " 22  Alert            7632 non-null   float64\n",
            "dtypes: float64(13), object(10)\n",
            "memory usage: 1.4+ MB\n"
          ]
        }
      ]
    },
    {
      "cell_type": "code",
      "source": [],
      "metadata": {
        "id": "jzc93Vv-c8Io"
      },
      "execution_count": null,
      "outputs": []
    },
    {
      "cell_type": "code",
      "source": [
        "columns_names=['horizontalError','depthError','magError','magNst','nst','gap','dmin','rms']\n",
        "\n",
        "\n",
        "df.drop(columns=columns_names,inplace=True)\n"
      ],
      "metadata": {
        "id": "fLgI_Xh7cf0W"
      },
      "execution_count": null,
      "outputs": []
    },
    {
      "cell_type": "code",
      "source": [
        "df= df.dropna(subset=['Alert'])"
      ],
      "metadata": {
        "id": "vlt63FwzcfyD"
      },
      "execution_count": null,
      "outputs": []
    },
    {
      "cell_type": "code",
      "source": [
        "df.info()"
      ],
      "metadata": {
        "colab": {
          "base_uri": "https://localhost:8080/"
        },
        "id": "dh3pd0MocfwM",
        "outputId": "84ec6ff4-b344-4f5a-f44f-dcc5c8227224"
      },
      "execution_count": null,
      "outputs": [
        {
          "output_type": "stream",
          "name": "stdout",
          "text": [
            "<class 'pandas.core.frame.DataFrame'>\n",
            "Index: 7632 entries, 0 to 7716\n",
            "Data columns (total 15 columns):\n",
            " #   Column          Non-Null Count  Dtype  \n",
            "---  ------          --------------  -----  \n",
            " 0   time            7632 non-null   object \n",
            " 1   latitude        7632 non-null   float64\n",
            " 2   longitude       7632 non-null   float64\n",
            " 3   depth           7632 non-null   float64\n",
            " 4   mag             7632 non-null   float64\n",
            " 5   magType         7632 non-null   object \n",
            " 6   net             7632 non-null   object \n",
            " 7   id              7632 non-null   object \n",
            " 8   updated         7632 non-null   object \n",
            " 9   place           7632 non-null   object \n",
            " 10  type            7632 non-null   object \n",
            " 11  status          7632 non-null   object \n",
            " 12  locationSource  7632 non-null   object \n",
            " 13  magSource       7632 non-null   object \n",
            " 14  Alert           7632 non-null   float64\n",
            "dtypes: float64(5), object(10)\n",
            "memory usage: 954.0+ KB\n"
          ]
        }
      ]
    },
    {
      "cell_type": "code",
      "source": [
        "# Drop all columns of type object\n",
        "df = df.select_dtypes(exclude=['object'])\n",
        "\n",
        "print(df)\n"
      ],
      "metadata": {
        "colab": {
          "base_uri": "https://localhost:8080/"
        },
        "id": "FJHoNqIOcftv",
        "outputId": "3bf8a1a3-5faa-47e4-8a1b-d5c8f5c9939c"
      },
      "execution_count": null,
      "outputs": [
        {
          "output_type": "stream",
          "name": "stdout",
          "text": [
            "       latitude   longitude   depth   mag  Alert\n",
            "0     35.590000  -90.480000  15.000  4.62    1.0\n",
            "1     32.998667 -115.557500  14.190  5.80    0.0\n",
            "2     38.190000  -83.950000  10.000  5.00    1.0\n",
            "3     35.816000 -117.816333   4.766  4.70    1.0\n",
            "4     33.095500 -115.624500  18.904  5.75    1.0\n",
            "...         ...         ...     ...   ...    ...\n",
            "7712 -56.357400  147.017000  10.000  5.70    1.0\n",
            "7713 -11.751300  166.170800  25.375  5.40    1.0\n",
            "7714 -17.709800  168.029200  46.000  6.10    1.0\n",
            "7715  55.982500 -153.997300   9.200  5.60    1.0\n",
            "7716  19.916200  -76.515300  22.241  5.90    1.0\n",
            "\n",
            "[7632 rows x 5 columns]\n"
          ]
        }
      ]
    },
    {
      "cell_type": "code",
      "source": [
        "X_ = df[['latitude', 'longitude', 'depth', 'mag']]"
      ],
      "metadata": {
        "id": "kdAn1p4QgERw"
      },
      "execution_count": null,
      "outputs": []
    },
    {
      "cell_type": "code",
      "source": [
        "print(X_)"
      ],
      "metadata": {
        "colab": {
          "base_uri": "https://localhost:8080/"
        },
        "id": "cDVM0LWigET4",
        "outputId": "6c7aa9d5-9c67-4aa5-d383-475e65760b0d"
      },
      "execution_count": null,
      "outputs": [
        {
          "output_type": "stream",
          "name": "stdout",
          "text": [
            "       latitude   longitude   depth   mag\n",
            "0     35.590000  -90.480000  15.000  4.62\n",
            "1     32.998667 -115.557500  14.190  5.80\n",
            "2     38.190000  -83.950000  10.000  5.00\n",
            "3     35.816000 -117.816333   4.766  4.70\n",
            "4     33.095500 -115.624500  18.904  5.75\n",
            "...         ...         ...     ...   ...\n",
            "7712 -56.357400  147.017000  10.000  5.70\n",
            "7713 -11.751300  166.170800  25.375  5.40\n",
            "7714 -17.709800  168.029200  46.000  6.10\n",
            "7715  55.982500 -153.997300   9.200  5.60\n",
            "7716  19.916200  -76.515300  22.241  5.90\n",
            "\n",
            "[7632 rows x 4 columns]\n"
          ]
        }
      ]
    },
    {
      "cell_type": "code",
      "source": [
        "y_= df['Alert']"
      ],
      "metadata": {
        "id": "LCqRYNiwgEWc"
      },
      "execution_count": null,
      "outputs": []
    },
    {
      "cell_type": "code",
      "source": [
        "print(y_)"
      ],
      "metadata": {
        "colab": {
          "base_uri": "https://localhost:8080/"
        },
        "id": "DA7tx6wVmIee",
        "outputId": "2b72a229-3b5b-4ddc-f5fb-526fcafcac36"
      },
      "execution_count": null,
      "outputs": [
        {
          "output_type": "stream",
          "name": "stdout",
          "text": [
            "0       1.0\n",
            "1       0.0\n",
            "2       1.0\n",
            "3       1.0\n",
            "4       1.0\n",
            "       ... \n",
            "7712    1.0\n",
            "7713    1.0\n",
            "7714    1.0\n",
            "7715    1.0\n",
            "7716    1.0\n",
            "Name: Alert, Length: 7632, dtype: float64\n"
          ]
        }
      ]
    },
    {
      "cell_type": "code",
      "source": [
        "X_ = df[['latitude', 'longitude', 'depth', 'mag']].to_numpy()\n",
        "y_ = df['Alert'].to_numpy()\n",
        "print(X_.shape)  # Should print (7632, 4)\n",
        "print(y_.shape)"
      ],
      "metadata": {
        "colab": {
          "base_uri": "https://localhost:8080/"
        },
        "id": "ig1A9YecgZHY",
        "outputId": "790c6265-df7e-4b42-a202-4376d7574320"
      },
      "execution_count": null,
      "outputs": [
        {
          "output_type": "stream",
          "name": "stdout",
          "text": [
            "(7632, 4)\n",
            "(7632,)\n"
          ]
        }
      ]
    },
    {
      "cell_type": "code",
      "source": [
        "X = torch.from_numpy(X_).type(torch.float)\n",
        "y = torch.from_numpy(y_).type(torch.float)"
      ],
      "metadata": {
        "id": "c6jH-z_igEf3"
      },
      "execution_count": null,
      "outputs": []
    },
    {
      "cell_type": "code",
      "source": [
        "from sklearn.model_selection import train_test_split\n",
        "\n",
        "X_train, X_test, y_train, y_test = train_test_split(X,\n",
        "                                                    y,\n",
        "                                                    test_size=0.2, # 20% test, 80% train\n",
        "                                                    random_state=42) # make the random split reproducible\n",
        "\n",
        "len(X_train), len(X_test), len(y_train), len(y_test)"
      ],
      "metadata": {
        "colab": {
          "base_uri": "https://localhost:8080/"
        },
        "id": "5RfNfmjrjFL5",
        "outputId": "c665ef59-6924-4009-bad2-cc707fd2bf19"
      },
      "execution_count": null,
      "outputs": [
        {
          "output_type": "execute_result",
          "data": {
            "text/plain": [
              "(6105, 1527, 6105, 1527)"
            ]
          },
          "metadata": {},
          "execution_count": 24
        }
      ]
    },
    {
      "cell_type": "code",
      "source": [],
      "metadata": {
        "id": "UL1bP1wvjFJw"
      },
      "execution_count": null,
      "outputs": []
    },
    {
      "cell_type": "code",
      "source": [],
      "metadata": {
        "id": "dkPvP1TUjFHM"
      },
      "execution_count": null,
      "outputs": []
    },
    {
      "cell_type": "code",
      "source": [],
      "metadata": {
        "id": "Gg5os7lVjFEv"
      },
      "execution_count": null,
      "outputs": []
    },
    {
      "cell_type": "code",
      "source": [
        "y.shape"
      ],
      "metadata": {
        "colab": {
          "base_uri": "https://localhost:8080/"
        },
        "id": "A43OWNpQlRNz",
        "outputId": "2f070a5d-1bbf-43be-e080-18c59fd6f78d"
      },
      "execution_count": null,
      "outputs": [
        {
          "output_type": "execute_result",
          "data": {
            "text/plain": [
              "torch.Size([7632])"
            ]
          },
          "metadata": {},
          "execution_count": 25
        }
      ]
    },
    {
      "cell_type": "code",
      "source": [
        "X.shape"
      ],
      "metadata": {
        "colab": {
          "base_uri": "https://localhost:8080/"
        },
        "id": "ziIMoLEugZKH",
        "outputId": "5c556500-6f62-4aef-b7da-e3308310d4c0"
      },
      "execution_count": null,
      "outputs": [
        {
          "output_type": "execute_result",
          "data": {
            "text/plain": [
              "torch.Size([7632, 4])"
            ]
          },
          "metadata": {},
          "execution_count": 26
        }
      ]
    },
    {
      "cell_type": "code",
      "source": [
        "if torch.backends.mps.is_available():\n",
        "    device = \"mps\"  # Use Metal Performance Shaders (for Apple GPUs)\n",
        "elif torch.cuda.is_available():\n",
        "    device = \"cuda\"  # Use CUDA (for NVIDIA GPUs)\n",
        "else:\n",
        "    device = \"cpu\"  # Default to CPU\n",
        "\n",
        "print(f\"Using device: {device}\")"
      ],
      "metadata": {
        "colab": {
          "base_uri": "https://localhost:8080/"
        },
        "id": "60X3WogtcfpT",
        "outputId": "cf77787b-d8f1-44b3-9af7-65fa5f07be4a"
      },
      "execution_count": null,
      "outputs": [
        {
          "output_type": "stream",
          "name": "stdout",
          "text": [
            "Using device: cpu\n"
          ]
        }
      ]
    },
    {
      "cell_type": "code",
      "source": [
        "class classModel(nn.Module):\n",
        "  def __init__(self):\n",
        "      super().__init__()\n",
        "\n",
        "      self.layer1=nn.Linear(in_features=4,out_features=16)\n",
        "      self.layer2=nn.Linear(in_features=16,out_features=64)\n",
        "      self.layer3=nn.Linear(in_features=64,out_features=1)\n",
        "      self.relu = nn.ReLU()\n",
        "\n",
        "\n",
        "  def forward(self,x):\n",
        "       x = self.layer1(x)\n",
        "       x = self.relu(x)\n",
        "       x = self.layer2(x)\n",
        "       x = self.layer3(x)\n",
        "       return x\n",
        "\n",
        "\n",
        "\n",
        "\n",
        "\n",
        "\n",
        "\n"
      ],
      "metadata": {
        "id": "6du9zzefcfm5"
      },
      "execution_count": null,
      "outputs": []
    },
    {
      "cell_type": "code",
      "source": [
        "model1=classModel().to(device)\n",
        "model1"
      ],
      "metadata": {
        "colab": {
          "base_uri": "https://localhost:8080/"
        },
        "id": "-3BwFKM3irG4",
        "outputId": "d30e9a89-0e5b-4d36-9906-feeb362bcc46"
      },
      "execution_count": null,
      "outputs": [
        {
          "output_type": "execute_result",
          "data": {
            "text/plain": [
              "classModel(\n",
              "  (layer1): Linear(in_features=4, out_features=16, bias=True)\n",
              "  (layer2): Linear(in_features=16, out_features=64, bias=True)\n",
              "  (layer3): Linear(in_features=64, out_features=1, bias=True)\n",
              "  (relu): ReLU()\n",
              ")"
            ]
          },
          "metadata": {},
          "execution_count": 29
        }
      ]
    },
    {
      "cell_type": "code",
      "source": [
        "untrain_pred=model1(X_test.to(device))\n",
        "print(f\"length of predictions {len(untrain_pred)} shape of data is {untrain_pred.shape}\")\n",
        "print(f\"Length of test samples: {len(y_test)}, Shape: {y_test.shape}\")\n",
        "print(f\"\\nFirst 10 predictions:\\n{untrain_pred[:10]}\")\n",
        "print(f\"\\nFirst 10 test labels:\\n{y_test[:10]}\")\n"
      ],
      "metadata": {
        "colab": {
          "base_uri": "https://localhost:8080/"
        },
        "id": "3GoEEQloirDP",
        "outputId": "39a6dbd7-b902-422e-af2f-85850b3a47bf"
      },
      "execution_count": null,
      "outputs": [
        {
          "output_type": "stream",
          "name": "stdout",
          "text": [
            "length of predictions 1527 shape of data is torch.Size([1527, 1])\n",
            "Length of test samples: 1527, Shape: torch.Size([1527])\n",
            "\n",
            "First 10 predictions:\n",
            "tensor([[-0.5794],\n",
            "        [10.9543],\n",
            "        [ 1.4618],\n",
            "        [17.1305],\n",
            "        [ 1.0800],\n",
            "        [10.3403],\n",
            "        [ 8.3669],\n",
            "        [26.0723],\n",
            "        [11.6939],\n",
            "        [ 1.5368]], grad_fn=<SliceBackward0>)\n",
            "\n",
            "First 10 test labels:\n",
            "tensor([1., 1., 1., 1., 1., 0., 1., 1., 1., 1.])\n"
          ]
        }
      ]
    },
    {
      "cell_type": "code",
      "source": [
        "loss_fn = nn.BCEWithLogitsLoss()  # Binary Cross Entropy Loss with logits\n",
        "optimizer=torch.optim.Adam(model1.parameters(),lr=0.001)\n",
        "def accuracy_fn(y_true, y_pred):\n",
        "    correct = torch.eq(y_true, y_pred).sum().item() # torch.eq() calculates where two tensors are equal\n",
        "    acc = (correct / len(y_pred)) * 100\n",
        "    return acc"
      ],
      "metadata": {
        "id": "gi3I-kdrj0mz"
      },
      "execution_count": null,
      "outputs": []
    },
    {
      "cell_type": "markdown",
      "source": [
        "training loop and testing loop"
      ],
      "metadata": {
        "id": "poZme-ME75p9"
      }
    },
    {
      "cell_type": "markdown",
      "source": [],
      "metadata": {
        "id": "iFb69UAdjsfr"
      }
    },
    {
      "cell_type": "code",
      "source": [
        "num_epochs = 500\n",
        "\n",
        "for epoch in range(num_epochs):\n",
        "    model1.train()  # Set the model to training mode\n",
        "\n",
        "    # Ensure X_train is on the correct device\n",
        "    X_train, y_train = X_train.to(device), y_train.to(device)\n",
        "\n",
        "    # Forward pass\n",
        "    y_logits = model1(X_train).squeeze()  # Get the raw predictions (logits)\n",
        "    y_pred = torch.round(torch.sigmoid(y_logits))  # Convert logits to probabilities, then round to 0 or 1\n",
        "\n",
        "    # Compute training loss\n",
        "    loss = loss_fn(y_logits, y_train)  # Use logits directly with appropriate loss (e.g., BCEWithLogitsLoss)\n",
        "\n",
        "    # Compute training accuracy\n",
        "    acc = accuracy_fn(y_true=y_train.cpu(), y_pred=y_pred.cpu())  # Detach to compute in CPU\n",
        "\n",
        "    # Backward pass and optimization\n",
        "    optimizer.zero_grad()  # Clear gradients\n",
        "    loss.backward()  # Compute gradients\n",
        "    optimizer.step()  # Update model parameters\n",
        "\n",
        "    # Logging training progress\n",
        "    if (epoch + 1) % 100 == 0:  # Log every 10 epochs\n",
        "        print(f\"Epoch {epoch + 1}/{num_epochs} | Loss: {loss.item():.4f} | Accuracy: {acc:.2f}%\")\n",
        "\n",
        "# Evaluation phase\n",
        "model1.eval()  # Set the model to evaluation mode\n",
        "\n",
        "with torch.inference_mode():\n",
        "    # Move test data to the same device\n",
        "    X_test, y_test = X_test.to(device), y_test.to(device)\n",
        "\n",
        "    # Forward pass for test data\n",
        "    test_logits = model1(X_test).squeeze()  # Get logits for test data\n",
        "    test_loss = loss_fn(test_logits, y_test)  # Compute test loss\n",
        "\n",
        "    # Convert logits to probabilities and binary predictions\n",
        "    test_pred = torch.round(torch.sigmoid(test_logits))  # Sigmoid + round for binary classification\n",
        "    test_acc = accuracy_fn(y_true=y_test.cpu(), y_pred=test_pred.cpu())  # Detach to compute in CPU\n",
        "\n",
        "# Print test results\n",
        "print(f\"Test Loss: {test_loss.item():.4f} | Test Accuracy: {test_acc:.2f}%\")\n",
        "\n",
        "\n"
      ],
      "metadata": {
        "colab": {
          "base_uri": "https://localhost:8080/"
        },
        "id": "9-buf9mcirA-",
        "outputId": "b46b6dd8-a4c2-498e-ea4b-884055263552"
      },
      "execution_count": null,
      "outputs": [
        {
          "output_type": "stream",
          "name": "stdout",
          "text": [
            "Epoch 100/500 | Loss: 0.1188 | Accuracy: 96.82%\n",
            "Epoch 200/500 | Loss: 0.1161 | Accuracy: 96.82%\n",
            "Epoch 300/500 | Loss: 0.1136 | Accuracy: 96.82%\n",
            "Epoch 400/500 | Loss: 0.1123 | Accuracy: 96.82%\n",
            "Epoch 500/500 | Loss: 0.1113 | Accuracy: 96.82%\n",
            "Test Loss: 0.1168 | Test Accuracy: 96.59%\n"
          ]
        }
      ]
    },
    {
      "cell_type": "code",
      "source": [],
      "metadata": {
        "id": "0sjkRUrliq3r"
      },
      "execution_count": null,
      "outputs": []
    },
    {
      "cell_type": "markdown",
      "source": [],
      "metadata": {
        "id": "LttzOSXhbPDp"
      }
    }
  ]
}