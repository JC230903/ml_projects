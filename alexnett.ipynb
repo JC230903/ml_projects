{
 "cells": [
  {
   "cell_type": "code",
   "id": "initial_id",
   "metadata": {
    "collapsed": true,
    "ExecuteTime": {
     "end_time": "2025-01-26T08:36:42.060339Z",
     "start_time": "2025-01-26T08:36:42.054855Z"
    }
   },
   "source": "print(\"hello world\")",
   "outputs": [
    {
     "name": "stdout",
     "output_type": "stream",
     "text": [
      "hello world\n"
     ]
    }
   ],
   "execution_count": 74
  },
  {
   "metadata": {
    "ExecuteTime": {
     "end_time": "2025-01-26T08:36:42.109119Z",
     "start_time": "2025-01-26T08:36:42.106199Z"
    }
   },
   "cell_type": "code",
   "source": [
    "import torch \n",
    "import torch.nn as nn\n",
    "import  torchvision \n",
    "import torchvision.transforms as transforms\n",
    "import torchvision.datasets as datasets\n",
    "import torchvision.models as models\n",
    "import numpy as np\n",
    "import matplotlib.pyplot as plt\n",
    "import matplotlib.image as mpimg\n",
    "import seaborn as sns\n",
    "import PIL\n"
   ],
   "id": "e497413450f3e0e",
   "outputs": [],
   "execution_count": 75
  },
  {
   "metadata": {
    "ExecuteTime": {
     "end_time": "2025-01-26T08:36:42.124717Z",
     "start_time": "2025-01-26T08:36:42.122805Z"
    }
   },
   "cell_type": "code",
   "source": [
    "#variables required \n",
    "\n",
    "batch_size = 64\n",
    "num_classes=10\n",
    "learning_rate = 0.01\n",
    "epochs = 10\n",
    "\n"
   ],
   "id": "5c0ac54eea134e11",
   "outputs": [],
   "execution_count": 76
  },
  {
   "metadata": {
    "ExecuteTime": {
     "end_time": "2025-01-26T08:36:42.128463Z",
     "start_time": "2025-01-26T08:36:42.126394Z"
    }
   },
   "cell_type": "code",
   "source": [
    "device=torch.device('cuda' if torch.cuda.is_available() else 'cpu')\n",
    "print(device)"
   ],
   "id": "e9a59df8b96d2a9f",
   "outputs": [
    {
     "name": "stdout",
     "output_type": "stream",
     "text": [
      "cpu\n"
     ]
    }
   ],
   "execution_count": 77
  },
  {
   "metadata": {
    "ExecuteTime": {
     "end_time": "2025-01-26T08:36:42.192702Z",
     "start_time": "2025-01-26T08:36:42.140483Z"
    }
   },
   "cell_type": "code",
   "source": [
    "train_dataset=torchvision.datasets.MNIST(\n",
    "  root=\"./data\",\n",
    "    train=True, \n",
    "    transform=transforms.Compose([\n",
    "      transforms.Resize((32,32)),\n",
    "      transforms.ToTensor(),\n",
    "      transforms.Normalize(mean=(0.137), std=(0.3801))\n",
    "       ]),\n",
    "    download=True \n",
    ")"
   ],
   "id": "a76c70e382fc5271",
   "outputs": [],
   "execution_count": 78
  },
  {
   "metadata": {
    "ExecuteTime": {
     "end_time": "2025-01-26T08:36:42.225942Z",
     "start_time": "2025-01-26T08:36:42.204862Z"
    }
   },
   "cell_type": "code",
   "source": [
    "test_dataset=torchvision.datasets.MNIST(\n",
    "  root=\"./data\",\n",
    "  train=False,\n",
    "  transform=transforms.Compose([\n",
    "    transforms.Resize((32,32)),\n",
    "    transforms.ToTensor(),\n",
    "    transforms.Normalize(mean=(0.137), std=(0.3801))\n",
    "    \n",
    "    \n",
    "  ]),\n",
    "  download=True \n",
    "  \n",
    ")"
   ],
   "id": "37e6c5f117e10ad9",
   "outputs": [],
   "execution_count": 79
  },
  {
   "metadata": {
    "ExecuteTime": {
     "end_time": "2025-01-26T08:36:42.264878Z",
     "start_time": "2025-01-26T08:36:42.262134Z"
    }
   },
   "cell_type": "code",
   "source": [
    "print(len(train_dataset))\n",
    "print(len(test_dataset))"
   ],
   "id": "2722ffbc45679ea4",
   "outputs": [
    {
     "name": "stdout",
     "output_type": "stream",
     "text": [
      "60000\n",
      "10000\n"
     ]
    }
   ],
   "execution_count": 80
  },
  {
   "metadata": {
    "ExecuteTime": {
     "end_time": "2025-01-26T08:36:42.283745Z",
     "start_time": "2025-01-26T08:36:42.275824Z"
    }
   },
   "cell_type": "code",
   "source": [
    "train_loader=torch.utils.data.DataLoader(train_dataset,\n",
    "                                         batch_size=batch_size,\n",
    "                                         shuffle=True)\n",
    "\n",
    "test_loader=torch.utils.data.DataLoader(test_dataset,\n",
    "                                        batch_size=batch_size,\n",
    "                                        shuffle=True)\n"
   ],
   "id": "a361605bce0708a",
   "outputs": [],
   "execution_count": 81
  },
  {
   "metadata": {
    "ExecuteTime": {
     "end_time": "2025-01-26T08:36:42.306636Z",
     "start_time": "2025-01-26T08:36:42.305106Z"
    }
   },
   "cell_type": "code",
   "source": "",
   "id": "6f181639971ace52",
   "outputs": [],
   "execution_count": 81
  },
  {
   "metadata": {
    "ExecuteTime": {
     "end_time": "2025-01-26T08:36:42.324194Z",
     "start_time": "2025-01-26T08:36:42.322430Z"
    }
   },
   "cell_type": "code",
   "source": "",
   "id": "37a38f56f45855b",
   "outputs": [],
   "execution_count": 81
  },
  {
   "metadata": {
    "ExecuteTime": {
     "end_time": "2025-01-26T08:36:42.563381Z",
     "start_time": "2025-01-26T08:36:42.325977Z"
    }
   },
   "cell_type": "code",
   "source": [
    "for i in range(7):\n",
    "    image, label = train_dataset[i]\n",
    "    plt.subplot(1, 7, i + 1)\n",
    "    plt.imshow(image.squeeze(), cmap='gray')  # Add parentheses to call the squeeze method\n",
    "    plt.axis('off')\n",
    "    plt.title(f\"label: {label}\")\n",
    "plt.show()\n",
    "\n",
    "  \n",
    "  "
   ],
   "id": "8b375c145f92cd4a",
   "outputs": [
    {
     "data": {
      "text/plain": [
       "<Figure size 640x480 with 7 Axes>"
      ],
      "image/png": "[encoded data removed]"
     },
     "metadata": {},
     "output_type": "display_data"
    }
   ],
   "execution_count": 82
  },
  {
   "metadata": {
    "ExecuteTime": {
     "end_time": "2025-01-26T08:36:42.568318Z",
     "start_time": "2025-01-26T08:36:42.564578Z"
    }
   },
   "cell_type": "code",
   "source": [
    "#lenet Architecture\n",
    "\n",
    "class LeNet5(nn.Module):\n",
    "  def __init__(self,num_classes=10):\n",
    "    super(LeNet5, self).__init__()\n",
    "    self.layer1=nn.Sequential(\n",
    "        nn.Conv2d(1,6,kernel_size=5,stride=1,padding=0),\n",
    "        nn.BatchNorm2d(6),\n",
    "        nn.ReLU(),\n",
    "        nn.MaxPool2d(kernel_size=2,stride=2), \n",
    "      )\n",
    "    self.layer2=nn.Sequential(\n",
    "      nn.Conv2d(6,16,kernel_size=5,stride=1,padding=0),\n",
    "      nn.BatchNorm2d(16),\n",
    "      nn.ReLU(),\n",
    "      nn.MaxPool2d(kernel_size=2,stride=2),       \n",
    "    )  \n",
    "    # self.layer3=nn.Sequential(\n",
    "    #      nn.Conv2d(16,120,kernel_size=5,stride=1,padding=0),\n",
    "    #      nn.ReLU()\n",
    "    #  ) \n",
    "    self.fc=nn.Linear(16*5*5,120)\n",
    "    self.relu1= nn.ReLU()\n",
    "    self.fc1=nn.Linear(120,84)\n",
    "    self.relu2=nn.ReLU()\n",
    "    self.fc2=nn.Linear(84,num_classes)\n",
    "      \n",
    "      \n",
    "  def forward(self,x):\n",
    "      out=self.layer1(x)\n",
    "      out=self.layer2(out)\n",
    "      out=out.reshape(out.size(0),-1)\n",
    "      out=self.fc(out)\n",
    "      out=self.relu1(out)\n",
    "      out=self.fc1(out)\n",
    "      out=self.relu2(out)\n",
    "      out=self.fc2(out)\n",
    "      # flattened_size = out.numel() // out.size(0)\n",
    "      # print(flattened_size)\n",
    "      return out\n",
    "  \n"
   ],
   "id": "f1072e1940fad1b2",
   "outputs": [],
   "execution_count": 83
  },
  {
   "metadata": {
    "ExecuteTime": {
     "end_time": "2025-01-26T08:36:42.570224Z",
     "start_time": "2025-01-26T08:36:42.568956Z"
    }
   },
   "cell_type": "code",
   "source": "",
   "id": "7c864e180a4d3138",
   "outputs": [],
   "execution_count": 83
  },
  {
   "metadata": {
    "ExecuteTime": {
     "end_time": "2025-01-26T08:36:42.575541Z",
     "start_time": "2025-01-26T08:36:42.571400Z"
    }
   },
   "cell_type": "code",
   "source": [
    "#model and hyperparameters\n",
    "model=LeNet5(num_classes=10)\n",
    "model=model.to(device)\n",
    "loss_fn=nn.CrossEntropyLoss()\n",
    "optimizer=torch.optim.Adam(model.parameters(),lr=learning_rate)\n",
    "total_step=len(train_loader)\n"
   ],
   "id": "cef828f10a6621dc",
   "outputs": [],
   "execution_count": 84
  },
  {
   "metadata": {
    "ExecuteTime": {
     "end_time": "2025-01-26T08:38:25.307161Z",
     "start_time": "2025-01-26T08:36:42.576008Z"
    }
   },
   "cell_type": "code",
   "source": [
    "#model training \n",
    "for epoch in range(epochs):  # Loop over epochs\n",
    "    model.train()  # Ensure the model is in training mode\n",
    "\n",
    "    running_loss = 0.0\n",
    "    for step, (inputs, labels) in enumerate(train_loader):  # Loop over batches\n",
    "        # Move data to device (GPU/CPU)\n",
    "        inputs, labels = inputs.to(device), labels.to(device)\n",
    "\n",
    "        # Zero the gradients\n",
    "        optimizer.zero_grad()\n",
    "\n",
    "        # Forward pass\n",
    "        outputs = model(inputs)\n",
    "        loss = loss_fn(outputs, labels)\n",
    "\n",
    "        # Backward pass\n",
    "        loss.backward()\n",
    "\n",
    "        # Update weights\n",
    "        optimizer.step()\n",
    "\n",
    "        # Accumulate the loss\n",
    "        running_loss += loss.item()\n",
    "\n",
    "        # Print every 400 steps\n",
    "        if step % 400 == 0:\n",
    "            print(f\"Epoch [{epoch+1}/{epochs}], Step [{step}/{len(train_loader)}], Loss: {loss.item():.4f}\")\n",
    "\n",
    "    # Print the average loss for the epoch\n",
    "    avg_loss = running_loss / len(train_loader)\n",
    "    print(f\"Epoch [{epoch+1}/{epochs}], Average Loss: {avg_loss:.4f}\")\n",
    "\n"
   ],
   "id": "ce4ef4f244403893",
   "outputs": [
    {
     "name": "stdout",
     "output_type": "stream",
     "text": [
      "Epoch [1/10], Step [0/938], Loss: 2.2957\n",
      "Epoch [1/10], Step [400/938], Loss: 0.0395\n",
      "Epoch [1/10], Step [800/938], Loss: 0.0913\n",
      "Epoch [1/10], Average Loss: 0.1397\n",
      "Epoch [2/10], Step [0/938], Loss: 0.0528\n",
      "Epoch [2/10], Step [400/938], Loss: 0.0270\n",
      "Epoch [2/10], Step [800/938], Loss: 0.0796\n",
      "Epoch [2/10], Average Loss: 0.0645\n",
      "Epoch [3/10], Step [0/938], Loss: 0.1376\n",
      "Epoch [3/10], Step [400/938], Loss: 0.0612\n",
      "Epoch [3/10], Step [800/938], Loss: 0.0306\n",
      "Epoch [3/10], Average Loss: 0.0541\n",
      "Epoch [4/10], Step [0/938], Loss: 0.0631\n",
      "Epoch [4/10], Step [400/938], Loss: 0.0028\n",
      "Epoch [4/10], Step [800/938], Loss: 0.0424\n",
      "Epoch [4/10], Average Loss: 0.0467\n",
      "Epoch [5/10], Step [0/938], Loss: 0.0045\n",
      "Epoch [5/10], Step [400/938], Loss: 0.0566\n",
      "Epoch [5/10], Step [800/938], Loss: 0.0610\n",
      "Epoch [5/10], Average Loss: 0.0408\n",
      "Epoch [6/10], Step [0/938], Loss: 0.3011\n",
      "Epoch [6/10], Step [400/938], Loss: 0.0166\n",
      "Epoch [6/10], Step [800/938], Loss: 0.0262\n",
      "Epoch [6/10], Average Loss: 0.0421\n",
      "Epoch [7/10], Step [0/938], Loss: 0.0044\n",
      "Epoch [7/10], Step [400/938], Loss: 0.0133\n",
      "Epoch [7/10], Step [800/938], Loss: 0.0068\n",
      "Epoch [7/10], Average Loss: 0.0388\n",
      "Epoch [8/10], Step [0/938], Loss: 0.0191\n",
      "Epoch [8/10], Step [400/938], Loss: 0.0184\n",
      "Epoch [8/10], Step [800/938], Loss: 0.0022\n",
      "Epoch [8/10], Average Loss: 0.0374\n",
      "Epoch [9/10], Step [0/938], Loss: 0.0800\n",
      "Epoch [9/10], Step [400/938], Loss: 0.0235\n",
      "Epoch [9/10], Step [800/938], Loss: 0.0121\n",
      "Epoch [9/10], Average Loss: 0.0364\n",
      "Epoch [10/10], Step [0/938], Loss: 0.0147\n",
      "Epoch [10/10], Step [400/938], Loss: 0.0314\n",
      "Epoch [10/10], Step [800/938], Loss: 0.0008\n",
      "Epoch [10/10], Average Loss: 0.0306\n"
     ]
    }
   ],
   "execution_count": 85
  },
  {
   "metadata": {
    "ExecuteTime": {
     "end_time": "2025-01-26T08:38:26.287835Z",
     "start_time": "2025-01-26T08:38:25.308550Z"
    }
   },
   "cell_type": "code",
   "source": [
    "with torch.inference_mode():\n",
    "    correct=0\n",
    "    total=0\n",
    "    for images, labels in test_loader:\n",
    "        images, labels = images.to(device), labels.to(device)\n",
    "        outputs = model(images)\n",
    "        _, predicted = torch.max(outputs.data, 1)\n",
    "        total += labels.size(0)\n",
    "        correct +=(predicted==labels).sum().item()\n",
    "        print('Accuracy of the network on the 10000 test images: {} %'.format(100 * correct / total))"
   ],
   "id": "74fa8d44252ae7bb",
   "outputs": [
    {
     "name": "stdout",
     "output_type": "stream",
     "text": [
      "Accuracy of the network on the 10000 test images: 98.4375 %\n",
      "Accuracy of the network on the 10000 test images: 97.65625 %\n",
      "Accuracy of the network on the 10000 test images: 98.4375 %\n",
      "Accuracy of the network on the 10000 test images: 98.4375 %\n",
      "Accuracy of the network on the 10000 test images: 97.8125 %\n",
      "Accuracy of the network on the 10000 test images: 97.65625 %\n",
      "Accuracy of the network on the 10000 test images: 97.76785714285714 %\n",
      "Accuracy of the network on the 10000 test images: 97.8515625 %\n",
      "Accuracy of the network on the 10000 test images: 98.09027777777777 %\n",
      "Accuracy of the network on the 10000 test images: 98.28125 %\n",
      "Accuracy of the network on the 10000 test images: 98.29545454545455 %\n",
      "Accuracy of the network on the 10000 test images: 98.4375 %\n",
      "Accuracy of the network on the 10000 test images: 98.4375 %\n",
      "Accuracy of the network on the 10000 test images: 98.54910714285714 %\n",
      "Accuracy of the network on the 10000 test images: 98.64583333333333 %\n",
      "Accuracy of the network on the 10000 test images: 98.6328125 %\n",
      "Accuracy of the network on the 10000 test images: 98.62132352941177 %\n",
      "Accuracy of the network on the 10000 test images: 98.69791666666667 %\n",
      "Accuracy of the network on the 10000 test images: 98.6842105263158 %\n",
      "Accuracy of the network on the 10000 test images: 98.75 %\n",
      "Accuracy of the network on the 10000 test images: 98.80952380952381 %\n",
      "Accuracy of the network on the 10000 test images: 98.86363636363636 %\n",
      "Accuracy of the network on the 10000 test images: 98.84510869565217 %\n",
      "Accuracy of the network on the 10000 test images: 98.828125 %\n",
      "Accuracy of the network on the 10000 test images: 98.8125 %\n",
      "Accuracy of the network on the 10000 test images: 98.85817307692308 %\n",
      "Accuracy of the network on the 10000 test images: 98.8425925925926 %\n",
      "Accuracy of the network on the 10000 test images: 98.88392857142857 %\n",
      "Accuracy of the network on the 10000 test images: 98.92241379310344 %\n",
      "Accuracy of the network on the 10000 test images: 98.90625 %\n",
      "Accuracy of the network on the 10000 test images: 98.94153225806451 %\n",
      "Accuracy of the network on the 10000 test images: 98.974609375 %\n",
      "Accuracy of the network on the 10000 test images: 99.00568181818181 %\n",
      "Accuracy of the network on the 10000 test images: 98.94301470588235 %\n",
      "Accuracy of the network on the 10000 test images: 98.88392857142857 %\n",
      "Accuracy of the network on the 10000 test images: 98.87152777777777 %\n",
      "Accuracy of the network on the 10000 test images: 98.85979729729729 %\n",
      "Accuracy of the network on the 10000 test images: 98.84868421052632 %\n",
      "Accuracy of the network on the 10000 test images: 98.79807692307692 %\n",
      "Accuracy of the network on the 10000 test images: 98.7890625 %\n",
      "Accuracy of the network on the 10000 test images: 98.8185975609756 %\n",
      "Accuracy of the network on the 10000 test images: 98.80952380952381 %\n",
      "Accuracy of the network on the 10000 test images: 98.83720930232558 %\n",
      "Accuracy of the network on the 10000 test images: 98.86363636363636 %\n",
      "Accuracy of the network on the 10000 test images: 98.88888888888889 %\n",
      "Accuracy of the network on the 10000 test images: 98.84510869565217 %\n",
      "Accuracy of the network on the 10000 test images: 98.86968085106383 %\n",
      "Accuracy of the network on the 10000 test images: 98.828125 %\n",
      "Accuracy of the network on the 10000 test images: 98.78826530612245 %\n",
      "Accuracy of the network on the 10000 test images: 98.78125 %\n",
      "Accuracy of the network on the 10000 test images: 98.80514705882354 %\n",
      "Accuracy of the network on the 10000 test images: 98.79807692307692 %\n",
      "Accuracy of the network on the 10000 test images: 98.73231132075472 %\n",
      "Accuracy of the network on the 10000 test images: 98.69791666666667 %\n",
      "Accuracy of the network on the 10000 test images: 98.7215909090909 %\n",
      "Accuracy of the network on the 10000 test images: 98.71651785714286 %\n",
      "Accuracy of the network on the 10000 test images: 98.71162280701755 %\n",
      "Accuracy of the network on the 10000 test images: 98.70689655172414 %\n",
      "Accuracy of the network on the 10000 test images: 98.70233050847457 %\n",
      "Accuracy of the network on the 10000 test images: 98.69791666666667 %\n",
      "Accuracy of the network on the 10000 test images: 98.6936475409836 %\n",
      "Accuracy of the network on the 10000 test images: 98.71471774193549 %\n",
      "Accuracy of the network on the 10000 test images: 98.6359126984127 %\n",
      "Accuracy of the network on the 10000 test images: 98.6328125 %\n",
      "Accuracy of the network on the 10000 test images: 98.65384615384616 %\n",
      "Accuracy of the network on the 10000 test images: 98.67424242424242 %\n",
      "Accuracy of the network on the 10000 test images: 98.67070895522389 %\n",
      "Accuracy of the network on the 10000 test images: 98.64430147058823 %\n",
      "Accuracy of the network on the 10000 test images: 98.6413043478261 %\n",
      "Accuracy of the network on the 10000 test images: 98.63839285714286 %\n",
      "Accuracy of the network on the 10000 test images: 98.6355633802817 %\n",
      "Accuracy of the network on the 10000 test images: 98.61111111111111 %\n",
      "Accuracy of the network on the 10000 test images: 98.60873287671232 %\n",
      "Accuracy of the network on the 10000 test images: 98.62753378378379 %\n",
      "Accuracy of the network on the 10000 test images: 98.64583333333333 %\n",
      "Accuracy of the network on the 10000 test images: 98.66365131578948 %\n",
      "Accuracy of the network on the 10000 test images: 98.66071428571429 %\n",
      "Accuracy of the network on the 10000 test images: 98.65785256410257 %\n",
      "Accuracy of the network on the 10000 test images: 98.6748417721519 %\n",
      "Accuracy of the network on the 10000 test images: 98.65234375 %\n",
      "Accuracy of the network on the 10000 test images: 98.66898148148148 %\n",
      "Accuracy of the network on the 10000 test images: 98.66615853658537 %\n",
      "Accuracy of the network on the 10000 test images: 98.6257530120482 %\n",
      "Accuracy of the network on the 10000 test images: 98.60491071428571 %\n",
      "Accuracy of the network on the 10000 test images: 98.5845588235294 %\n",
      "Accuracy of the network on the 10000 test images: 98.56468023255815 %\n",
      "Accuracy of the network on the 10000 test images: 98.5632183908046 %\n",
      "Accuracy of the network on the 10000 test images: 98.5440340909091 %\n",
      "Accuracy of the network on the 10000 test images: 98.54283707865169 %\n",
      "Accuracy of the network on the 10000 test images: 98.54166666666667 %\n",
      "Accuracy of the network on the 10000 test images: 98.5576923076923 %\n",
      "Accuracy of the network on the 10000 test images: 98.55638586956522 %\n",
      "Accuracy of the network on the 10000 test images: 98.57190860215054 %\n",
      "Accuracy of the network on the 10000 test images: 98.57047872340425 %\n",
      "Accuracy of the network on the 10000 test images: 98.53618421052632 %\n",
      "Accuracy of the network on the 10000 test images: 98.55143229166667 %\n",
      "Accuracy of the network on the 10000 test images: 98.55025773195877 %\n",
      "Accuracy of the network on the 10000 test images: 98.54910714285714 %\n",
      "Accuracy of the network on the 10000 test images: 98.54797979797979 %\n",
      "Accuracy of the network on the 10000 test images: 98.5625 %\n",
      "Accuracy of the network on the 10000 test images: 98.56126237623762 %\n",
      "Accuracy of the network on the 10000 test images: 98.57536764705883 %\n",
      "Accuracy of the network on the 10000 test images: 98.58919902912622 %\n",
      "Accuracy of the network on the 10000 test images: 98.60276442307692 %\n",
      "Accuracy of the network on the 10000 test images: 98.58630952380952 %\n",
      "Accuracy of the network on the 10000 test images: 98.57016509433963 %\n",
      "Accuracy of the network on the 10000 test images: 98.56892523364486 %\n",
      "Accuracy of the network on the 10000 test images: 98.56770833333333 %\n",
      "Accuracy of the network on the 10000 test images: 98.55217889908256 %\n",
      "Accuracy of the network on the 10000 test images: 98.53693181818181 %\n",
      "Accuracy of the network on the 10000 test images: 98.52195945945945 %\n",
      "Accuracy of the network on the 10000 test images: 98.50725446428571 %\n",
      "Accuracy of the network on the 10000 test images: 98.52046460176992 %\n",
      "Accuracy of the network on the 10000 test images: 98.53344298245614 %\n",
      "Accuracy of the network on the 10000 test images: 98.53260869565217 %\n",
      "Accuracy of the network on the 10000 test images: 98.53178879310344 %\n",
      "Accuracy of the network on the 10000 test images: 98.53098290598291 %\n",
      "Accuracy of the network on the 10000 test images: 98.54343220338983 %\n",
      "Accuracy of the network on the 10000 test images: 98.55567226890756 %\n",
      "Accuracy of the network on the 10000 test images: 98.5546875 %\n",
      "Accuracy of the network on the 10000 test images: 98.56663223140495 %\n",
      "Accuracy of the network on the 10000 test images: 98.55276639344262 %\n",
      "Accuracy of the network on the 10000 test images: 98.55182926829268 %\n",
      "Accuracy of the network on the 10000 test images: 98.51310483870968 %\n",
      "Accuracy of the network on the 10000 test images: 98.5125 %\n",
      "Accuracy of the network on the 10000 test images: 98.51190476190476 %\n",
      "Accuracy of the network on the 10000 test images: 98.52362204724409 %\n",
      "Accuracy of the network on the 10000 test images: 98.52294921875 %\n",
      "Accuracy of the network on the 10000 test images: 98.53439922480621 %\n",
      "Accuracy of the network on the 10000 test images: 98.53365384615384 %\n",
      "Accuracy of the network on the 10000 test images: 98.50906488549619 %\n",
      "Accuracy of the network on the 10000 test images: 98.52035984848484 %\n",
      "Accuracy of the network on the 10000 test images: 98.51973684210526 %\n",
      "Accuracy of the network on the 10000 test images: 98.51912313432835 %\n",
      "Accuracy of the network on the 10000 test images: 98.5300925925926 %\n",
      "Accuracy of the network on the 10000 test images: 98.52941176470588 %\n",
      "Accuracy of the network on the 10000 test images: 98.54014598540147 %\n",
      "Accuracy of the network on the 10000 test images: 98.52807971014492 %\n",
      "Accuracy of the network on the 10000 test images: 98.5386690647482 %\n",
      "Accuracy of the network on the 10000 test images: 98.52678571428571 %\n",
      "Accuracy of the network on the 10000 test images: 98.51507092198581 %\n",
      "Accuracy of the network on the 10000 test images: 98.50352112676056 %\n",
      "Accuracy of the network on the 10000 test images: 98.49213286713287 %\n",
      "Accuracy of the network on the 10000 test images: 98.49175347222223 %\n",
      "Accuracy of the network on the 10000 test images: 98.45905172413794 %\n",
      "Accuracy of the network on the 10000 test images: 98.45890410958904 %\n",
      "Accuracy of the network on the 10000 test images: 98.45875850340136 %\n",
      "Accuracy of the network on the 10000 test images: 98.45861486486487 %\n",
      "Accuracy of the network on the 10000 test images: 98.45847315436242 %\n",
      "Accuracy of the network on the 10000 test images: 98.45833333333333 %\n",
      "Accuracy of the network on the 10000 test images: 98.46854304635761 %\n",
      "Accuracy of the network on the 10000 test images: 98.46833881578948 %\n",
      "Accuracy of the network on the 10000 test images: 98.46813725490196 %\n",
      "Accuracy of the network on the 10000 test images: 98.47808441558442 %\n",
      "Accuracy of the network on the 10000 test images: 98.47782258064517 %\n",
      "Accuracy of the network on the 10000 test images: 98.48758012820512 %\n",
      "Accuracy of the network on the 10000 test images: 98.48 %\n"
     ]
    }
   ],
   "execution_count": 86
  },
  {
   "metadata": {
    "ExecuteTime": {
     "end_time": "2025-01-26T08:38:26.579962Z",
     "start_time": "2025-01-26T08:38:26.578501Z"
    }
   },
   "cell_type": "code",
   "source": "",
   "id": "22cad8654859215d",
   "outputs": [],
   "execution_count": 88
  },
  {
   "metadata": {
    "ExecuteTime": {
     "end_time": "2025-01-26T08:38:26.584460Z",
     "start_time": "2025-01-26T08:38:26.582998Z"
    }
   },
   "cell_type": "code",
   "source": "",
   "id": "a62e463fafb392b8",
   "outputs": [],
   "execution_count": 88
  },
  {
   "metadata": {
    "ExecuteTime": {
     "end_time": "2025-01-26T08:38:26.587345Z",
     "start_time": "2025-01-26T08:38:26.585374Z"
    }
   },
   "cell_type": "code",
   "source": "",
   "id": "5f9579e1315f52fa",
   "outputs": [],
   "execution_count": 88
  },
  {
   "metadata": {
    "ExecuteTime": {
     "end_time": "2025-01-26T08:38:26.590113Z",
     "start_time": "2025-01-26T08:38:26.588366Z"
    }
   },
   "cell_type": "code",
   "source": "",
   "id": "3773ce870da7671f",
   "outputs": [],
   "execution_count": 88
  },
  {
   "metadata": {
    "ExecuteTime": {
     "end_time": "2025-01-26T08:38:26.592878Z",
     "start_time": "2025-01-26T08:38:26.591338Z"
    }
   },
   "cell_type": "code",
   "source": "",
   "id": "1e4d3a6f5b0423fc",
   "outputs": [],
   "execution_count": 88
  },
  {
   "metadata": {
    "ExecuteTime": {
     "end_time": "2025-01-26T08:38:26.595217Z",
     "start_time": "2025-01-26T08:38:26.593899Z"
    }
   },
   "cell_type": "code",
   "source": "",
   "id": "6e2dc98358734989",
   "outputs": [],
   "execution_count": 88
  },
  {
   "metadata": {
    "ExecuteTime": {
     "end_time": "2025-01-26T08:38:26.597975Z",
     "start_time": "2025-01-26T08:38:26.596255Z"
    }
   },
   "cell_type": "code",
   "source": "",
   "id": "501bf811f9361be8",
   "outputs": [],
   "execution_count": 88
  }
 ],
 "metadata": {
  "kernelspec": {
   "display_name": "Python 3",
   "language": "python",
   "name": "python3"
  },
  "language_info": {
   "codemirror_mode": {
    "name": "ipython",
    "version": 2
   },
   "file_extension": ".py",
   "mimetype": "text/x-python",
   "name": "python",
   "nbconvert_exporter": "python",
   "pygments_lexer": "ipython2",
   "version": "2.7.6"
  }
 },
 "nbformat": 4,
 "nbformat_minor": 5
}
